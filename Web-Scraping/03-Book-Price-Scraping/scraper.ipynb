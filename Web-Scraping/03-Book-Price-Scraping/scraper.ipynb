{
 "metadata": {
  "language_info": {
   "codemirror_mode": {
    "name": "ipython",
    "version": 3
   },
   "file_extension": ".py",
   "mimetype": "text/x-python",
   "name": "python",
   "nbconvert_exporter": "python",
   "pygments_lexer": "ipython3",
   "version": "3.8.6"
  },
  "orig_nbformat": 2,
  "kernelspec": {
   "name": "python386jvsc74a57bd0a0a31d72b0085f5c980b68e1210f459b51e3b6afa7d30eb3c393753e3e66f30a",
   "display_name": "Python 3.8.6 64-bit ('base-ds-env': conda)"
  },
  "metadata": {
   "interpreter": {
    "hash": "a0a31d72b0085f5c980b68e1210f459b51e3b6afa7d30eb3c393753e3e66f30a"
   }
  }
 },
 "nbformat": 4,
 "nbformat_minor": 2,
 "cells": [
  {
   "cell_type": "code",
   "execution_count": 2,
   "metadata": {},
   "outputs": [],
   "source": [
    "import requests\n",
    "from bs4 import BeautifulSoup\n",
    "import pandas as pd\n",
    "import matplotlib.pyplot as plt\n"
   ]
  },
  {
   "cell_type": "code",
   "execution_count": 13,
   "metadata": {},
   "outputs": [],
   "source": [
    "base_url = 'http://books.toscrape.com/'\n",
    "url = base_url + 'index.html'"
   ]
  },
  {
   "cell_type": "code",
   "execution_count": 6,
   "metadata": {},
   "outputs": [
    {
     "output_type": "stream",
     "name": "stdout",
     "text": [
      "<Response [200]>\n<!DOCTYPE html>\n<!--[if lt IE \n"
     ]
    }
   ],
   "source": [
    "response = requests.get(url)\n",
    "print(response)\n",
    "print(response.text[:30])"
   ]
  },
  {
   "cell_type": "code",
   "execution_count": 7,
   "metadata": {},
   "outputs": [],
   "source": [
    "soup_obj = BeautifulSoup(response.text, 'html.parser')"
   ]
  },
  {
   "source": [
    "An example of one element:\n",
    "\n",
    "```text\n",
    "<article class=\"product_pod\">\n",
    "    <div class=\"image_container\">\n",
    "        <a href=\"catalogue/a-light-in-the-attic_1000/index.html\"><img src=\"media/cache/2c/da/2cdad67c44b002e7ead0cc35693c0e8b.jpg\" alt=\"A Light in the Attic\" class=\"thumbnail\"></a>\n",
    "    </div>\n",
    "    <p class=\"star-rating Three\">\n",
    "        <i class=\"icon-star\"></i>\n",
    "        <i class=\"icon-star\"></i>\n",
    "        <i class=\"icon-star\"></i>\n",
    "        <i class=\"icon-star\"></i>\n",
    "        <i class=\"icon-star\"></i>\n",
    "    </p>     \n",
    "    <h3><a href=\"catalogue/a-light-in-the-attic_1000/index.html\" title=\"A Light in the Attic\">A Light in the ...</a></h3>\n",
    "    <div class=\"product_price\">\n",
    "        <p class=\"price_color\">£51.77</p>\n",
    "        <p class=\"instock availability\">\n",
    "            <i class=\"icon-ok\"></i>\n",
    "            In stock\n",
    "        </p>\n",
    "        <form>\n",
    "            <button type=\"submit\" class=\"btn btn-primary btn-block\" data-loading-text=\"Adding...\">Add to basket</button>\n",
    "        </form>\n",
    "    </div>\n",
    "</article>\n",
    "```"
   ],
   "cell_type": "markdown",
   "metadata": {}
  },
  {
   "cell_type": "code",
   "execution_count": 8,
   "metadata": {},
   "outputs": [
    {
     "output_type": "stream",
     "name": "stdout",
     "text": [
      "<class 'bs4.element.ResultSet'>\n"
     ]
    }
   ],
   "source": [
    "# Find elements for article class='product_pod'\n",
    "\n",
    "articles = soup_obj.find_all('article', {'class':'product_pod'})\n",
    "print(type(articles))"
   ]
  },
  {
   "cell_type": "code",
   "execution_count": 15,
   "metadata": {},
   "outputs": [
    {
     "output_type": "stream",
     "name": "stdout",
     "text": [
      "<article class=\"product_pod\">\n<div class=\"image_container\">\n<a href=\"catalogue/a-light-in-the-attic_1000/index.html\"><img alt=\"A Light in the Attic\" class=\"thumbnail\" src=\"media/cache/2c/da/2cdad67c44b002e7ead0cc35693c0e8b.jpg\"/></a>\n</div>\n<p class=\"star-rating Three\">\n<i class=\"icon-star\"></i>\n<i class=\"icon-star\"></i>\n<i class=\"icon-star\"></i>\n<i class=\"icon-star\"></i>\n<i class=\"icon-star\"></i>\n</p>\n<h3><a href=\"catalogue/a-light-in-the-attic_1000/index.html\" title=\"A Light in the Attic\">A Light in the ...</a></h3>\n<div class=\"product_price\">\n<p class=\"price_color\">Â£51.77</p>\n<p class=\"instock availability\">\n<i class=\"icon-ok\"></i>\n    \n        In stock\n    \n</p>\n<form>\n<button class=\"btn btn-primary btn-block\" data-loading-text=\"Adding...\" type=\"submit\">Add to basket</button>\n</form>\n</div>\n</article>\n"
     ]
    }
   ],
   "source": [
    "article_1 = articles[0]\n",
    "print(article_1)\n",
    "# print(article_1.contents)"
   ]
  },
  {
   "cell_type": "code",
   "execution_count": 20,
   "metadata": {},
   "outputs": [
    {
     "output_type": "stream",
     "name": "stdout",
     "text": [
      "Three\n"
     ]
    }
   ],
   "source": [
    "p_rating = article_1.find('p', {'class':'star-rating'})\n",
    "rating = p_rating['class'][1]\n",
    "print(rating)"
   ]
  },
  {
   "cell_type": "code",
   "execution_count": 16,
   "metadata": {},
   "outputs": [
    {
     "output_type": "stream",
     "name": "stdout",
     "text": [
      "A Light in the Attic\nhttp://books.toscrape.com/catalogue/a-light-in-the-attic_1000/index.html\n"
     ]
    }
   ],
   "source": [
    "a_inside_h3 = article_1.find('h3').find('a')\n",
    "book_title = a_inside_h3['title']\n",
    "book_url = base_url + a_inside_h3['href']\n",
    "print(book_title)\n",
    "print(book_url)"
   ]
  },
  {
   "cell_type": "code",
   "execution_count": 24,
   "metadata": {},
   "outputs": [
    {
     "output_type": "stream",
     "name": "stdout",
     "text": [
      "51.77\n"
     ]
    }
   ],
   "source": [
    "p_price = article_1.find('p', {'class':'price_color'})\n",
    "price = p_price.text[2:]\n",
    "print(price)"
   ]
  },
  {
   "cell_type": "code",
   "execution_count": 31,
   "metadata": {},
   "outputs": [
    {
     "output_type": "stream",
     "name": "stdout",
     "text": [
      "In stock\n"
     ]
    }
   ],
   "source": [
    "p_instock = article_1.find('p', {'class':'availability'})\n",
    "availability = p_instock.contents[2]\n",
    "print(availability.strip())"
   ]
  },
  {
   "source": [
    "Let's put above altogether in one function\n"
   ],
   "cell_type": "markdown",
   "metadata": {}
  },
  {
   "cell_type": "code",
   "execution_count": 34,
   "metadata": {},
   "outputs": [],
   "source": [
    "def get_book_properties(article):\n",
    "    # Rating\n",
    "    p_rating = article.find('p', {'class':'star-rating'})\n",
    "    rating = p_rating['class'][1]\n",
    "\n",
    "    # Book title, url\n",
    "    a_inside_h3 = article.find('h3').find('a')\n",
    "    book_title = a_inside_h3['title']\n",
    "    book_url = base_url + a_inside_h3['href']\n",
    "\n",
    "    # Book price\n",
    "    p_price = article.find('p', {'class':'price_color'})\n",
    "    price = p_price.text[2:]\n",
    "\n",
    "    # Availability\n",
    "    p_instock = article.find('p', {'class':'availability'})\n",
    "    availability = p_instock.contents[2].strip()\n",
    "\n",
    "    return book_title, price, rating, availability, book_url"
   ]
  },
  {
   "cell_type": "code",
   "execution_count": 35,
   "metadata": {},
   "outputs": [
    {
     "output_type": "stream",
     "name": "stdout",
     "text": [
      "<class 'tuple'>\n('A Light in the Attic', '51.77', 'Three', 'In stock', 'http://books.toscrape.com/catalogue/a-light-in-the-attic_1000/index.html')\n"
     ]
    }
   ],
   "source": [
    "article_1 = get_book_properties(articles[0])\n",
    "print(type(article_1))\n",
    "print(article_1)"
   ]
  },
  {
   "cell_type": "code",
   "execution_count": 36,
   "metadata": {},
   "outputs": [
    {
     "output_type": "stream",
     "name": "stdout",
     "text": [
      "('A Light in the Attic', '51.77', 'Three', 'In stock', 'http://books.toscrape.com/catalogue/a-light-in-the-attic_1000/index.html')\n('Tipping the Velvet', '53.74', 'One', 'In stock', 'http://books.toscrape.com/catalogue/tipping-the-velvet_999/index.html')\n('Soumission', '50.10', 'One', 'In stock', 'http://books.toscrape.com/catalogue/soumission_998/index.html')\n('Sharp Objects', '47.82', 'Four', 'In stock', 'http://books.toscrape.com/catalogue/sharp-objects_997/index.html')\n('Sapiens: A Brief History of Humankind', '54.23', 'Five', 'In stock', 'http://books.toscrape.com/catalogue/sapiens-a-brief-history-of-humankind_996/index.html')\n"
     ]
    }
   ],
   "source": [
    "for i in range(5):\n",
    "    a = get_book_properties(articles[i])\n",
    "    print(a)"
   ]
  },
  {
   "cell_type": "code",
   "execution_count": null,
   "metadata": {},
   "outputs": [],
   "source": []
  }
 ]
}