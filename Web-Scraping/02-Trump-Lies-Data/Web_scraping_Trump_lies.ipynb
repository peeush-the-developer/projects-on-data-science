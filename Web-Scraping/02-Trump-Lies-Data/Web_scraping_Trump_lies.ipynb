{
 "metadata": {
  "language_info": {
   "codemirror_mode": {
    "name": "ipython",
    "version": 3
   },
   "file_extension": ".py",
   "mimetype": "text/x-python",
   "name": "python",
   "nbconvert_exporter": "python",
   "pygments_lexer": "ipython3",
   "version": "3.8.6"
  },
  "orig_nbformat": 2,
  "kernelspec": {
   "name": "python386jvsc74a57bd0a0a31d72b0085f5c980b68e1210f459b51e3b6afa7d30eb3c393753e3e66f30a",
   "display_name": "Python 3.8.6 64-bit ('base-ds-env': conda)"
  },
  "metadata": {
   "interpreter": {
    "hash": "a0a31d72b0085f5c980b68e1210f459b51e3b6afa7d30eb3c393753e3e66f30a"
   }
  }
 },
 "nbformat": 4,
 "nbformat_minor": 2,
 "cells": [
  {
   "source": [
    "# Web scraping Trump lies from an [article](https://www.nytimes.com/interactive/2017/06/23/opinion/trumps-lies.html)"
   ],
   "cell_type": "markdown",
   "metadata": {}
  },
  {
   "source": [
    "## Import libraries"
   ],
   "cell_type": "markdown",
   "metadata": {}
  },
  {
   "cell_type": "code",
   "execution_count": 22,
   "metadata": {},
   "outputs": [],
   "source": [
    "# Import libraries\n",
    "import requests\n",
    "from bs4 import BeautifulSoup\n",
    "import pandas as pd\n",
    "import datetime"
   ]
  },
  {
   "source": [
    "## Fetch HTML response for the article"
   ],
   "cell_type": "markdown",
   "metadata": {}
  },
  {
   "cell_type": "code",
   "execution_count": 5,
   "metadata": {},
   "outputs": [
    {
     "output_type": "stream",
     "name": "stdout",
     "text": [
      "249378\n"
     ]
    }
   ],
   "source": [
    "# Fetch HTML response for the article\n",
    "response = requests.get('https://www.nytimes.com/interactive/2017/06/23/opinion/trumps-lies.html')\n",
    "# Check if the response is success, otherwise print relevant message.\n",
    "if not response.ok:\n",
    "    print('Cannot read article. Please check the url of the article.')\n",
    "else:\n",
    "    print(len(response.text))"
   ]
  },
  {
   "source": [
    "## Create BeautifulSoup object from the response"
   ],
   "cell_type": "markdown",
   "metadata": {}
  },
  {
   "cell_type": "code",
   "execution_count": 6,
   "metadata": {},
   "outputs": [],
   "source": [
    "# Create BeautifulSoup object from the response\n",
    "soup_obj = BeautifulSoup(response.text, 'html.parser')"
   ]
  },
  {
   "source": [
    "## Find all spans with class 'short-desc'"
   ],
   "cell_type": "markdown",
   "metadata": {}
  },
  {
   "cell_type": "code",
   "execution_count": 7,
   "metadata": {},
   "outputs": [
    {
     "output_type": "stream",
     "name": "stdout",
     "text": [
      "180\n"
     ]
    }
   ],
   "source": [
    "# Find all spans with class 'short-desc'\n",
    "lies = soup_obj.find_all('span', attrs={'class':'short-desc'})\n",
    "# Display count of lies\n",
    "print(len(lies))"
   ]
  },
  {
   "source": [
    "There are total of 180 lies in this article which were told by Trump.\n",
    "\n",
    "\n",
    "Let's now fetch actual lie with date and truth with link for each lie."
   ],
   "cell_type": "markdown",
   "metadata": {}
  },
  {
   "cell_type": "code",
   "execution_count": 8,
   "metadata": {},
   "outputs": [
    {
     "output_type": "stream",
     "name": "stdout",
     "text": [
      "<span class=\"short-desc\"><strong>Jan. 21 </strong>“I wasn't a fan of Iraq. I didn't want to go into Iraq.” <span class=\"short-truth\"><a href=\"https://www.buzzfeed.com/andrewkaczynski/in-2002-donald-trump-said-he-supported-invading-iraq-on-the\" target=\"_blank\">(He was for an invasion before he was against it.)</a></span></span>\n"
     ]
    }
   ],
   "source": [
    "# Analyse the structure by looking at 1 or 2 item from the lies list\n",
    "print(lies[0])"
   ]
  },
  {
   "cell_type": "code",
   "execution_count": 9,
   "metadata": {},
   "outputs": [
    {
     "output_type": "stream",
     "name": "stdout",
     "text": [
      "<span class=\"short-desc\"><strong>Jan. 21 </strong>“A reporter for Time magazine — and I have been on their cover 14 or 15 times. I think we have the all-time record in the history of Time magazine.” <span class=\"short-truth\"><a href=\"http://nation.time.com/2013/11/06/10-things-you-didnt-know-about-time/\" target=\"_blank\">(Trump was on the cover 11 times and Nixon appeared 55 times.)</a></span></span>\n"
     ]
    }
   ],
   "source": [
    "print(lies[1])"
   ]
  },
  {
   "source": [
    "As we can observe from above 2 items, the structure is as following:\n",
    "+ _Date_: It is inside <strong> tag\n",
    "+ _Lie_: It is 2nd item in the \"short-desc\" span\n",
    "+ _Truth_: It is the value of <a> tag\n",
    "+ _Truth link_: It is the \"href\" value of <a> tag"
   ],
   "cell_type": "markdown",
   "metadata": {}
  },
  {
   "source": [
    "## Fetch required information from lies list.\n",
    "\n",
    "Fetch information from first item in the list.  \n",
    "Then we can replicate the same process for all items in the list."
   ],
   "cell_type": "markdown",
   "metadata": {}
  },
  {
   "cell_type": "code",
   "execution_count": 11,
   "metadata": {},
   "outputs": [
    {
     "output_type": "stream",
     "name": "stdout",
     "text": [
      "Jan. 21 \n“I wasn't a fan of Iraq. I didn't want to go into Iraq.” \n(He was for an invasion before he was against it.)\nhttps://www.buzzfeed.com/andrewkaczynski/in-2002-donald-trump-said-he-supported-invading-iraq-on-the\n"
     ]
    }
   ],
   "source": [
    "# Fetch required information from first item in the lies list\n",
    "\n",
    "lie_item = lies[0]\n",
    "\n",
    "date_ = lie_item.find('strong').text\n",
    "lie = lie_item.contents[1]\n",
    "truth = lie_item.find('a').text\n",
    "truth_link = lie_item.find('a')['href']\n",
    "\n",
    "print(date_, lie, truth, truth_link, sep='\\n')"
   ]
  },
  {
   "cell_type": "code",
   "execution_count": 72,
   "metadata": {},
   "outputs": [],
   "source": [
    "def parse_date(date_text, year=2017):\n",
    "    '''\n",
    "    Parse date text from 'Jan. 21' to '2017-01-21'. Assuming year to be 2017.\n",
    "\n",
    "    Arguments:\n",
    "        date_text: date string from article. 'Jan. 21'\n",
    "        year: [Optional] Year of the date to be parsed. Default to 2017\n",
    "    \n",
    "    Returns:\n",
    "        datetime object\n",
    "    '''\n",
    "    try:\n",
    "        date_ = datetime.datetime.strptime(date_text, '%b. %d')\n",
    "    except ValueError:\n",
    "        try:\n",
    "            date_ = datetime.datetime.strptime(date_text, '%B %d')\n",
    "        except ValueError:\n",
    "            m, d = date_text.split()\n",
    "            # print(m, d)\n",
    "            m = m[:-1]\n",
    "            month = None\n",
    "            if m == 'Sept':\n",
    "                month = 9\n",
    "            return datetime.date(year, month, int(d))\n",
    "    return datetime.date(year, date_.month, date_.day)"
   ]
  },
  {
   "cell_type": "code",
   "execution_count": 73,
   "metadata": {},
   "outputs": [
    {
     "output_type": "execute_result",
     "data": {
      "text/plain": [
       "datetime.date(2017, 1, 21)"
      ]
     },
     "metadata": {},
     "execution_count": 73
    }
   ],
   "source": [
    "# Test the function for parsing date\n",
    "parse_date('Jan. 21')"
   ]
  },
  {
   "cell_type": "code",
   "execution_count": 74,
   "metadata": {},
   "outputs": [
    {
     "output_type": "execute_result",
     "data": {
      "text/plain": [
       "datetime.date(2017, 3, 3)"
      ]
     },
     "metadata": {},
     "execution_count": 74
    }
   ],
   "source": [
    "parse_date('March 3')"
   ]
  },
  {
   "cell_type": "code",
   "execution_count": 75,
   "metadata": {},
   "outputs": [
    {
     "output_type": "execute_result",
     "data": {
      "text/plain": [
       "datetime.date(2017, 9, 3)"
      ]
     },
     "metadata": {},
     "execution_count": 75
    }
   ],
   "source": [
    "parse_date('Sept. 3')"
   ]
  },
  {
   "cell_type": "code",
   "execution_count": 68,
   "metadata": {},
   "outputs": [],
   "source": [
    "# Define a function to fetch all info from one item\n",
    "\n",
    "def fetch_info(lie_item):\n",
    "    '''\n",
    "    Extracts date, lie, truth, truth_link from the given lie item.\n",
    "\n",
    "    Arguments:\n",
    "        lie_item: BeautifulSoup object from all \"lies\" objects\n",
    "\n",
    "    Returns:\n",
    "        date, lie, truth, truth_link as a tuple\n",
    "    '''\n",
    "    date_ = parse_date(lie_item.find('strong').text.strip())\n",
    "    lie = lie_item.contents[1].strip().strip('“').strip('”')\n",
    "    truth = lie_item.find('a').text.strip('(').strip(')')\n",
    "    truth_link = lie_item.find('a')['href']\n",
    "\n",
    "    return date_, lie, truth, truth_link"
   ]
  },
  {
   "cell_type": "code",
   "execution_count": 69,
   "metadata": {},
   "outputs": [
    {
     "output_type": "stream",
     "name": "stdout",
     "text": [
      "2017-01-21\nI wasn't a fan of Iraq. I didn't want to go into Iraq.\nHe was for an invasion before he was against it.\nhttps://www.buzzfeed.com/andrewkaczynski/in-2002-donald-trump-said-he-supported-invading-iraq-on-the\n"
     ]
    }
   ],
   "source": [
    "# Use the fetch_info function to extract info from first item.\n",
    "date_, lie, truth, truth_link = fetch_info(lies[0])\n",
    "print(date_, lie, truth, truth_link, sep='\\n')"
   ]
  },
  {
   "cell_type": "code",
   "execution_count": 70,
   "metadata": {},
   "outputs": [
    {
     "output_type": "stream",
     "name": "stdout",
     "text": [
      "2017-01-21\nA reporter for Time magazine — and I have been on their cover 14 or 15 times. I think we have the all-time record in the history of Time magazine.\nTrump was on the cover 11 times and Nixon appeared 55 times.\nhttp://nation.time.com/2013/11/06/10-things-you-didnt-know-about-time/\n"
     ]
    }
   ],
   "source": [
    "# Use the fetch_info function to extract info from second item.\n",
    "date_, lie, truth, truth_link = fetch_info(lies[1])\n",
    "print(date_, lie, truth, truth_link, sep='\\n')"
   ]
  },
  {
   "source": [
    "So, it seems to be working for first 2 items.  \n",
    "Let's populate these information in pandas dataframe."
   ],
   "cell_type": "markdown",
   "metadata": {}
  },
  {
   "cell_type": "code",
   "execution_count": 76,
   "metadata": {},
   "outputs": [
    {
     "output_type": "stream",
     "name": "stdout",
     "text": [
      "180\n"
     ]
    }
   ],
   "source": [
    "# Loop through all lies items and store them in the list of tuples\n",
    "items = []\n",
    "for lie_item in lies:\n",
    "    items.append(fetch_info(lie_item))\n",
    "print(len(items))"
   ]
  },
  {
   "cell_type": "code",
   "execution_count": 77,
   "metadata": {},
   "outputs": [],
   "source": [
    "# Define an empty dataframe\n",
    "\n",
    "df = pd.DataFrame(items, columns=['Date', 'Lie', 'Truth', 'Truth_Link'])"
   ]
  },
  {
   "cell_type": "code",
   "execution_count": 78,
   "metadata": {},
   "outputs": [
    {
     "output_type": "execute_result",
     "data": {
      "text/plain": [
       "         Date                                                Lie  \\\n",
       "0  2017-01-21  I wasn't a fan of Iraq. I didn't want to go in...   \n",
       "1  2017-01-21  A reporter for Time magazine — and I have been...   \n",
       "2  2017-01-23  Between 3 million and 5 million illegal votes ...   \n",
       "3  2017-01-25  Now, the audience was the biggest ever. But th...   \n",
       "4  2017-01-25  Take a look at the Pew reports (which show vot...   \n",
       "\n",
       "                                               Truth  \\\n",
       "0   He was for an invasion before he was against it.   \n",
       "1  Trump was on the cover 11 times and Nixon appe...   \n",
       "2             There's no evidence of illegal voting.   \n",
       "3  Official aerial photos show Obama's 2009 inaug...   \n",
       "4            The report never mentioned voter fraud.   \n",
       "\n",
       "                                          Truth_Link  \n",
       "0  https://www.buzzfeed.com/andrewkaczynski/in-20...  \n",
       "1  http://nation.time.com/2013/11/06/10-things-yo...  \n",
       "2  https://www.nytimes.com/2017/01/23/us/politics...  \n",
       "3  https://www.nytimes.com/2017/01/21/us/politics...  \n",
       "4  https://www.nytimes.com/2017/01/24/us/politics...  "
      ],
      "text/html": "<div>\n<style scoped>\n    .dataframe tbody tr th:only-of-type {\n        vertical-align: middle;\n    }\n\n    .dataframe tbody tr th {\n        vertical-align: top;\n    }\n\n    .dataframe thead th {\n        text-align: right;\n    }\n</style>\n<table border=\"1\" class=\"dataframe\">\n  <thead>\n    <tr style=\"text-align: right;\">\n      <th></th>\n      <th>Date</th>\n      <th>Lie</th>\n      <th>Truth</th>\n      <th>Truth_Link</th>\n    </tr>\n  </thead>\n  <tbody>\n    <tr>\n      <th>0</th>\n      <td>2017-01-21</td>\n      <td>I wasn't a fan of Iraq. I didn't want to go in...</td>\n      <td>He was for an invasion before he was against it.</td>\n      <td>https://www.buzzfeed.com/andrewkaczynski/in-20...</td>\n    </tr>\n    <tr>\n      <th>1</th>\n      <td>2017-01-21</td>\n      <td>A reporter for Time magazine — and I have been...</td>\n      <td>Trump was on the cover 11 times and Nixon appe...</td>\n      <td>http://nation.time.com/2013/11/06/10-things-yo...</td>\n    </tr>\n    <tr>\n      <th>2</th>\n      <td>2017-01-23</td>\n      <td>Between 3 million and 5 million illegal votes ...</td>\n      <td>There's no evidence of illegal voting.</td>\n      <td>https://www.nytimes.com/2017/01/23/us/politics...</td>\n    </tr>\n    <tr>\n      <th>3</th>\n      <td>2017-01-25</td>\n      <td>Now, the audience was the biggest ever. But th...</td>\n      <td>Official aerial photos show Obama's 2009 inaug...</td>\n      <td>https://www.nytimes.com/2017/01/21/us/politics...</td>\n    </tr>\n    <tr>\n      <th>4</th>\n      <td>2017-01-25</td>\n      <td>Take a look at the Pew reports (which show vot...</td>\n      <td>The report never mentioned voter fraud.</td>\n      <td>https://www.nytimes.com/2017/01/24/us/politics...</td>\n    </tr>\n  </tbody>\n</table>\n</div>"
     },
     "metadata": {},
     "execution_count": 78
    }
   ],
   "source": [
    "df.head()"
   ]
  },
  {
   "cell_type": "code",
   "execution_count": 79,
   "metadata": {},
   "outputs": [
    {
     "output_type": "execute_result",
     "data": {
      "text/plain": [
       "(180, 4)"
      ]
     },
     "metadata": {},
     "execution_count": 79
    }
   ],
   "source": [
    "df.shape"
   ]
  },
  {
   "cell_type": "code",
   "execution_count": null,
   "metadata": {},
   "outputs": [],
   "source": []
  }
 ]
}