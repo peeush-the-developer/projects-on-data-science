{
  "nbformat": 4,
  "nbformat_minor": 0,
  "metadata": {
    "colab": {
      "name": "WebScraping_Events.ipynb",
      "provenance": [],
      "collapsed_sections": []
    },
    "kernelspec": {
      "name": "python3",
      "display_name": "Python 3"
    },
    "language_info": {
      "name": "python"
    }
  },
  "cells": [
    {
      "cell_type": "code",
      "metadata": {
        "id": "NKjEqEXcnCcK"
      },
      "source": [
        "import requests\n",
        "from bs4 import BeautifulSoup\n",
        "import pandas as pd\n",
        "\n",
        "pd.options.display.max_rows = 100\n",
        "pd.options.display.max_columns = 100"
      ],
      "execution_count": 42,
      "outputs": []
    },
    {
      "cell_type": "code",
      "metadata": {
        "id": "JSgDifhQnNVc"
      },
      "source": [
        "response = requests.get('https://emlii.com/78-events-across-100-years-that-completely-changed-the-world/')"
      ],
      "execution_count": 2,
      "outputs": []
    },
    {
      "cell_type": "code",
      "metadata": {
        "id": "81LdUMXhnR1m"
      },
      "source": [
        "soup_obj = BeautifulSoup(response.text, 'html.parser')"
      ],
      "execution_count": 3,
      "outputs": []
    },
    {
      "cell_type": "code",
      "metadata": {
        "id": "rBeORkNYnWjU"
      },
      "source": [
        "events = soup_obj.find_all(class_='article-inner-block')"
      ],
      "execution_count": 10,
      "outputs": []
    },
    {
      "cell_type": "code",
      "metadata": {
        "colab": {
          "base_uri": "https://localhost:8080/"
        },
        "id": "9-wRmdmpnlWj",
        "outputId": "f95be873-d907-4e13-fd8e-c7bd7aa4bb95"
      },
      "source": [
        "len(events)"
      ],
      "execution_count": 11,
      "outputs": [
        {
          "output_type": "execute_result",
          "data": {
            "text/plain": [
              "88"
            ]
          },
          "metadata": {
            "tags": []
          },
          "execution_count": 11
        }
      ]
    },
    {
      "cell_type": "code",
      "metadata": {
        "colab": {
          "base_uri": "https://localhost:8080/"
        },
        "id": "tXPLpUAknmdn",
        "outputId": "137b997b-10d4-42e4-e7b2-d94a06c30ee6"
      },
      "source": [
        "print(events[0])"
      ],
      "execution_count": 12,
      "outputs": [
        {
          "output_type": "stream",
          "text": [
            "<div class=\"article-inner-block\">\n",
            "<h2 class=\"article-subtitle\">1. Queen Victoria’s Funeral (1901)</h2>\n",
            "<div class=\"article-inner-block-image\">\n",
            "<p><img alt=\"\" class=\"attachment-full size-full aligncenter\" height=\"389\" loading=\"lazy\" sizes=\"(max-width: 640px) 100vw, 640px\" src=\"https://emlii.com/wp-content/uploads/2020/04/1587470234-9470-5356a7d7bb38f.jpg\" srcset=\"https://emlii.com/wp-content/uploads/2020/04/1587470234-9470-5356a7d7bb38f.jpg 640w, https://emlii.com/wp-content/uploads/2020/04/1587470234-9470-5356a7d7bb38f-300x182.jpg 300w\" width=\"640\"/></p>\n",
            "<div class=\"horizontal-share-block\">royal-portraits.blogspot.com</div>\n",
            "</div>\n",
            "<p> </p>\n",
            "<p class=\"article-inner-description\">Crowds line up to bid a final farewell to Queen Victoria. After 63 years on the throne, Victoria died at the age of 81 at Osborne House on The Isle of Wight. Her military state funeral was held on Saturday 2 February 1901 in St. George’s Chapel, Windsor Castle. She was the longest-reigning British monarch in history.</p>\n",
            "</div>\n"
          ],
          "name": "stdout"
        }
      ]
    },
    {
      "cell_type": "code",
      "metadata": {
        "colab": {
          "base_uri": "https://localhost:8080/"
        },
        "id": "JhhrFQzSnqfS",
        "outputId": "e1b9eef2-f34e-4a26-83c0-342d0109d45c"
      },
      "source": [
        "print(events[1])"
      ],
      "execution_count": 13,
      "outputs": [
        {
          "output_type": "stream",
          "text": [
            "<div class=\"article-inner-block\">\n",
            "<div class=\"article-inner-block-image\">\n",
            "<p><img alt=\"\" class=\"attachment-full size-full aligncenter\" height=\"450\" loading=\"lazy\" sizes=\"(max-width: 600px) 100vw, 600px\" src=\"https://emlii.com/wp-content/uploads/2020/04/1587470231-2944-5356a7faa7b5d.jpg\" srcset=\"https://emlii.com/wp-content/uploads/2020/04/1587470231-2944-5356a7faa7b5d.jpg 600w, https://emlii.com/wp-content/uploads/2020/04/1587470231-2944-5356a7faa7b5d-300x225.jpg 300w\" width=\"600\"/></p>\n",
            "<div class=\"horizontal-share-block\"></div>\n",
            "</div>\n",
            "<div class=\"article-source\"></div>\n",
            "<p class=\"article-inner-description\">Queen Victoria’s funeral procession, Windsor, 1901</p>\n",
            "</div>\n"
          ],
          "name": "stdout"
        }
      ]
    },
    {
      "cell_type": "code",
      "metadata": {
        "id": "e6uAvDFLomdL"
      },
      "source": [
        "\n",
        "events_list = []\n",
        "for obj in events:\n",
        "    heading = obj.find('h2', class_='article-subtitle')\n",
        "    title, year = None, None\n",
        "    if heading:\n",
        "        title = heading.text[3:-7]\n",
        "        year = heading.text[-5:-1]\n",
        "        # print(title, year)\n",
        "    image = obj.find('img')\n",
        "    url = None\n",
        "    if image:\n",
        "        url = image['src']\n",
        "        # print(url)\n",
        "    desc_tag = obj.find('p', class_='article-inner-description')\n",
        "    desc = None\n",
        "    if desc_tag:\n",
        "        desc = desc_tag.text\n",
        "        # print(desc.text)\n",
        "    events_list.append((title, year, url, desc))\n"
      ],
      "execution_count": 44,
      "outputs": []
    },
    {
      "cell_type": "code",
      "metadata": {
        "colab": {
          "base_uri": "https://localhost:8080/",
          "height": 363
        },
        "id": "SZ2rT8sWq8FY",
        "outputId": "58b98f0d-0c21-4b93-bb43-d91682ef3f5f"
      },
      "source": [
        "df = pd.DataFrame(events_list, columns=[\n",
        "                  'Title', 'Year', 'Img_url', 'Description'])\n",
        "df.head(10)"
      ],
      "execution_count": 47,
      "outputs": [
        {
          "output_type": "execute_result",
          "data": {
            "text/html": [
              "<div>\n",
              "<style scoped>\n",
              "    .dataframe tbody tr th:only-of-type {\n",
              "        vertical-align: middle;\n",
              "    }\n",
              "\n",
              "    .dataframe tbody tr th {\n",
              "        vertical-align: top;\n",
              "    }\n",
              "\n",
              "    .dataframe thead th {\n",
              "        text-align: right;\n",
              "    }\n",
              "</style>\n",
              "<table border=\"1\" class=\"dataframe\">\n",
              "  <thead>\n",
              "    <tr style=\"text-align: right;\">\n",
              "      <th></th>\n",
              "      <th>Title</th>\n",
              "      <th>Year</th>\n",
              "      <th>Img_url</th>\n",
              "      <th>Description</th>\n",
              "    </tr>\n",
              "  </thead>\n",
              "  <tbody>\n",
              "    <tr>\n",
              "      <th>0</th>\n",
              "      <td>Queen Victoria’s Funeral</td>\n",
              "      <td>1901</td>\n",
              "      <td>https://emlii.com/wp-content/uploads/2020/04/1...</td>\n",
              "      <td>Crowds line up to bid a final farewell to Quee...</td>\n",
              "    </tr>\n",
              "    <tr>\n",
              "      <th>1</th>\n",
              "      <td>None</td>\n",
              "      <td>None</td>\n",
              "      <td>https://emlii.com/wp-content/uploads/2020/04/1...</td>\n",
              "      <td>Queen Victoria’s funeral procession, Windsor, ...</td>\n",
              "    </tr>\n",
              "    <tr>\n",
              "      <th>2</th>\n",
              "      <td>Wright Brother’s First Flight</td>\n",
              "      <td>1903</td>\n",
              "      <td>https://emlii.com/wp-content/uploads/2020/04/1...</td>\n",
              "      <td>On December 17 1903, news came through that tw...</td>\n",
              "    </tr>\n",
              "    <tr>\n",
              "      <th>3</th>\n",
              "      <td>Emily Davison Throws Herself Under The Kings H...</td>\n",
              "      <td>1913</td>\n",
              "      <td>https://emlii.com/wp-content/uploads/2020/04/1...</td>\n",
              "      <td>Suffragette Emily Davison’s Derby Day protest ...</td>\n",
              "    </tr>\n",
              "    <tr>\n",
              "      <th>4</th>\n",
              "      <td>Abdication of the Tsar Nik</td>\n",
              "      <td>as I</td>\n",
              "      <td>https://emlii.com/wp-content/uploads/2020/04/1...</td>\n",
              "      <td>On March 15, 1917 following the Feburary Revol...</td>\n",
              "    </tr>\n",
              "    <tr>\n",
              "      <th>5</th>\n",
              "      <td>None</td>\n",
              "      <td>None</td>\n",
              "      <td>https://emlii.com/wp-content/uploads/2020/04/1...</td>\n",
              "      <td>The former tsar Nicholas II and his children s...</td>\n",
              "    </tr>\n",
              "    <tr>\n",
              "      <th>6</th>\n",
              "      <td>Irish Free State Treaty Signed</td>\n",
              "      <td>1921</td>\n",
              "      <td>https://emlii.com/wp-content/uploads/2020/04/1...</td>\n",
              "      <td>In late 1921, the Irish Free State Treaty is s...</td>\n",
              "    </tr>\n",
              "    <tr>\n",
              "      <th>7</th>\n",
              "      <td>Suzanne Lenglen Breaks Wimbledon Record</td>\n",
              "      <td>1925</td>\n",
              "      <td>https://emlii.com/wp-content/uploads/2020/04/1...</td>\n",
              "      <td>Suzanne Lenglen wins an unprecedented sixth si...</td>\n",
              "    </tr>\n",
              "    <tr>\n",
              "      <th>8</th>\n",
              "      <td>Start Of UK General Strike</td>\n",
              "      <td>1926</td>\n",
              "      <td>https://emlii.com/wp-content/uploads/2020/04/1...</td>\n",
              "      <td>Start Of UK General Strike (1926). The General...</td>\n",
              "    </tr>\n",
              "    <tr>\n",
              "      <th>9</th>\n",
              "      <td>Charles Lindbergh Flies the Atlantic Solo</td>\n",
              "      <td>1927</td>\n",
              "      <td>https://emlii.com/wp-content/uploads/2020/04/1...</td>\n",
              "      <td>Charles Lindbergh achieves the world’s first n...</td>\n",
              "    </tr>\n",
              "  </tbody>\n",
              "</table>\n",
              "</div>"
            ],
            "text/plain": [
              "                                               Title  Year  \\\n",
              "0                           Queen Victoria’s Funeral  1901   \n",
              "1                                               None  None   \n",
              "2                      Wright Brother’s First Flight  1903   \n",
              "3  Emily Davison Throws Herself Under The Kings H...  1913   \n",
              "4                         Abdication of the Tsar Nik  as I   \n",
              "5                                               None  None   \n",
              "6                     Irish Free State Treaty Signed  1921   \n",
              "7            Suzanne Lenglen Breaks Wimbledon Record  1925   \n",
              "8                         Start Of UK General Strike  1926   \n",
              "9          Charles Lindbergh Flies the Atlantic Solo  1927   \n",
              "\n",
              "                                             Img_url  \\\n",
              "0  https://emlii.com/wp-content/uploads/2020/04/1...   \n",
              "1  https://emlii.com/wp-content/uploads/2020/04/1...   \n",
              "2  https://emlii.com/wp-content/uploads/2020/04/1...   \n",
              "3  https://emlii.com/wp-content/uploads/2020/04/1...   \n",
              "4  https://emlii.com/wp-content/uploads/2020/04/1...   \n",
              "5  https://emlii.com/wp-content/uploads/2020/04/1...   \n",
              "6  https://emlii.com/wp-content/uploads/2020/04/1...   \n",
              "7  https://emlii.com/wp-content/uploads/2020/04/1...   \n",
              "8  https://emlii.com/wp-content/uploads/2020/04/1...   \n",
              "9  https://emlii.com/wp-content/uploads/2020/04/1...   \n",
              "\n",
              "                                         Description  \n",
              "0  Crowds line up to bid a final farewell to Quee...  \n",
              "1  Queen Victoria’s funeral procession, Windsor, ...  \n",
              "2  On December 17 1903, news came through that tw...  \n",
              "3  Suffragette Emily Davison’s Derby Day protest ...  \n",
              "4  On March 15, 1917 following the Feburary Revol...  \n",
              "5  The former tsar Nicholas II and his children s...  \n",
              "6  In late 1921, the Irish Free State Treaty is s...  \n",
              "7  Suzanne Lenglen wins an unprecedented sixth si...  \n",
              "8  Start Of UK General Strike (1926). The General...  \n",
              "9  Charles Lindbergh achieves the world’s first n...  "
            ]
          },
          "metadata": {
            "tags": []
          },
          "execution_count": 47
        }
      ]
    },
    {
      "cell_type": "code",
      "metadata": {
        "id": "Akl1j8dQunjg"
      },
      "source": [
        ""
      ],
      "execution_count": null,
      "outputs": []
    }
  ]
}