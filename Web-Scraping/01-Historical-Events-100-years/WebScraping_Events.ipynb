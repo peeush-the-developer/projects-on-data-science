{
  "nbformat": 4,
  "nbformat_minor": 0,
  "metadata": {
    "colab": {
      "name": "WebScraping_Events.ipynb",
      "provenance": [],
      "collapsed_sections": [],
      "include_colab_link": true
    },
    "kernelspec": {
      "name": "python3",
      "display_name": "Python 3"
    },
    "language_info": {
      "name": "python"
    }
  },
  "cells": [
    {
      "cell_type": "markdown",
      "metadata": {
        "id": "view-in-github",
        "colab_type": "text"
      },
      "source": [
        "<a href=\"https://colab.research.google.com/github/peeush-the-developer/projects-on-data-science/blob/main/Web-Scraping/01-Historical-Events-100-years/WebScraping_Events.ipynb\" target=\"_parent\"><img src=\"https://colab.research.google.com/assets/colab-badge.svg\" alt=\"Open In Colab\"/></a>"
      ]
    },
    {
      "cell_type": "code",
      "metadata": {
        "id": "NKjEqEXcnCcK"
      },
      "source": [
        "import requests\n",
        "from bs4 import BeautifulSoup\n",
        "import pandas as pd\n",
        "\n",
        "pd.options.display.max_rows = 100\n",
        "pd.options.display.max_columns = 100"
      ],
      "execution_count": 1,
      "outputs": []
    },
    {
      "cell_type": "code",
      "metadata": {
        "id": "JSgDifhQnNVc"
      },
      "source": [
        "response = requests.get('https://emlii.com/78-events-across-100-years-that-completely-changed-the-world/')"
      ],
      "execution_count": 2,
      "outputs": []
    },
    {
      "cell_type": "code",
      "metadata": {
        "id": "81LdUMXhnR1m"
      },
      "source": [
        "soup_obj = BeautifulSoup(response.text, 'html.parser')"
      ],
      "execution_count": 3,
      "outputs": []
    },
    {
      "cell_type": "code",
      "metadata": {
        "id": "rBeORkNYnWjU"
      },
      "source": [
        "events = soup_obj.find_all(class_='article-inner-block')"
      ],
      "execution_count": 4,
      "outputs": []
    },
    {
      "cell_type": "code",
      "metadata": {
        "colab": {
          "base_uri": "https://localhost:8080/"
        },
        "id": "9-wRmdmpnlWj",
        "outputId": "26d2ad29-0c68-4203-af7a-800cff76aab6"
      },
      "source": [
        "len(events)"
      ],
      "execution_count": 5,
      "outputs": [
        {
          "output_type": "execute_result",
          "data": {
            "text/plain": [
              "88"
            ]
          },
          "metadata": {
            "tags": []
          },
          "execution_count": 5
        }
      ]
    },
    {
      "cell_type": "code",
      "metadata": {
        "colab": {
          "base_uri": "https://localhost:8080/"
        },
        "id": "tXPLpUAknmdn",
        "outputId": "0264848d-7e10-4fb3-c1a9-4f21c1ef5667"
      },
      "source": [
        "events[0]"
      ],
      "execution_count": 19,
      "outputs": [
        {
          "output_type": "execute_result",
          "data": {
            "text/plain": [
              "<div class=\"article-inner-block\">\n",
              "<h2 class=\"article-subtitle\">1. Queen Victoria’s Funeral (1901)</h2>\n",
              "<div class=\"article-inner-block-image\">\n",
              "<p><img alt=\"\" class=\"attachment-full size-full aligncenter\" height=\"389\" loading=\"lazy\" sizes=\"(max-width: 640px) 100vw, 640px\" src=\"https://emlii.com/wp-content/uploads/2020/04/1587470234-9470-5356a7d7bb38f.jpg\" srcset=\"https://emlii.com/wp-content/uploads/2020/04/1587470234-9470-5356a7d7bb38f.jpg 640w, https://emlii.com/wp-content/uploads/2020/04/1587470234-9470-5356a7d7bb38f-300x182.jpg 300w\" width=\"640\"/></p>\n",
              "<div class=\"horizontal-share-block\">royal-portraits.blogspot.com</div>\n",
              "</div>\n",
              "<p> </p>\n",
              "<p class=\"article-inner-description\">Crowds line up to bid a final farewell to Queen Victoria. After 63 years on the throne, Victoria died at the age of 81 at Osborne House on The Isle of Wight. Her military state funeral was held on Saturday 2 February 1901 in St. George’s Chapel, Windsor Castle. She was the longest-reigning British monarch in history.</p>\n",
              "</div>"
            ]
          },
          "metadata": {
            "tags": []
          },
          "execution_count": 19
        }
      ]
    },
    {
      "cell_type": "code",
      "metadata": {
        "colab": {
          "base_uri": "https://localhost:8080/"
        },
        "id": "JhhrFQzSnqfS",
        "outputId": "2eaab54d-3257-4cfb-fa94-8dc41da59c04"
      },
      "source": [
        "events[1]"
      ],
      "execution_count": 20,
      "outputs": [
        {
          "output_type": "execute_result",
          "data": {
            "text/plain": [
              "<div class=\"article-inner-block\">\n",
              "<div class=\"article-inner-block-image\">\n",
              "<p><img alt=\"\" class=\"attachment-full size-full aligncenter\" height=\"450\" loading=\"lazy\" sizes=\"(max-width: 600px) 100vw, 600px\" src=\"https://emlii.com/wp-content/uploads/2020/04/1587470231-2944-5356a7faa7b5d.jpg\" srcset=\"https://emlii.com/wp-content/uploads/2020/04/1587470231-2944-5356a7faa7b5d.jpg 600w, https://emlii.com/wp-content/uploads/2020/04/1587470231-2944-5356a7faa7b5d-300x225.jpg 300w\" width=\"600\"/></p>\n",
              "<div class=\"horizontal-share-block\"></div>\n",
              "</div>\n",
              "<div class=\"article-source\"></div>\n",
              "<p class=\"article-inner-description\">Queen Victoria’s funeral procession, Windsor, 1901</p>\n",
              "</div>"
            ]
          },
          "metadata": {
            "tags": []
          },
          "execution_count": 20
        }
      ]
    },
    {
      "cell_type": "code",
      "metadata": {
        "id": "iFzJIbZvi52x"
      },
      "source": [
        "# Define function to extract \"Title\", \"Year\" from event\n",
        "def get_title_year(event):\n",
        "  '''\n",
        "  Extract title and year from the event instance\n",
        "\n",
        "  Arguments:\n",
        "    event: An instance of BeautifulSoup object read from events\n",
        "  \n",
        "  Returns:\n",
        "    title, year: Title and year of the event when available, otherwise None for \n",
        "    both\n",
        "  '''\n",
        "  title, year = None, None\n",
        "  heading = event.find('h2', class_='article-subtitle')\n",
        "  if heading:\n",
        "      title = heading.text[3:-7]\n",
        "      year = heading.text[-5:-1]\n",
        "      if not year.isdigit():\n",
        "        year = None\n",
        "  return title, year"
      ],
      "execution_count": 25,
      "outputs": []
    },
    {
      "cell_type": "code",
      "metadata": {
        "id": "YQ72oSARmYNi"
      },
      "source": [
        "# Define function to extract \"Url\" of image source from event\n",
        "def get_image_url(event):\n",
        "  '''\n",
        "  Extract Url of image source from the event instance\n",
        "\n",
        "  Arguments:\n",
        "    event: An instance of BeautifulSoup object read from events\n",
        "  \n",
        "  Returns:\n",
        "    url: Url of image source if available, otherwise None\n",
        "  '''\n",
        "  url = None\n",
        "  image = event.find('img')\n",
        "  if image:\n",
        "      url = image['src']\n",
        "  return url"
      ],
      "execution_count": 36,
      "outputs": []
    },
    {
      "cell_type": "code",
      "metadata": {
        "id": "uq1Mb08irZA2"
      },
      "source": [
        "# Define function to extract \"Description\" from event\n",
        "def get_description(event):\n",
        "  '''\n",
        "  Extract description from the event instance\n",
        "\n",
        "  Arguments:\n",
        "    event: An instance of BeautifulSoup object read from events\n",
        "  \n",
        "  Returns:\n",
        "    desc: description of the event if available, otherwise None\n",
        "  '''\n",
        "  desc = None\n",
        "  # desc_tag = event.find('p', class_='article-inner-description')\n",
        "  # if desc_tag:\n",
        "  #   desc = desc_tag.text\n",
        "  # else:\n",
        "  desc = event.contents[-2].text\n",
        "  return desc"
      ],
      "execution_count": 95,
      "outputs": []
    },
    {
      "cell_type": "code",
      "metadata": {
        "id": "uK5c7JbOA6R-",
        "outputId": "d934c5db-b3e6-4ebd-8277-9b8e31daa0d6",
        "colab": {
          "base_uri": "https://localhost:8080/",
          "height": 54
        }
      },
      "source": [
        "get_description(events[39])\n",
        "#get_title_year(events[39])"
      ],
      "execution_count": 96,
      "outputs": [
        {
          "output_type": "execute_result",
          "data": {
            "application/vnd.google.colaboratory.intrinsic+json": {
              "type": "string"
            },
            "text/plain": [
              "'June 1958, Sweden v Brazil in the World Cup Final. Brazil were a goal down until a17 year old newcomer, Pele, equalised with a stunning goal. Brazil went on to win 5-2 and Pele became a sporting hero and is considered one of the greatest football players of all time.'"
            ]
          },
          "metadata": {
            "tags": []
          },
          "execution_count": 96
        }
      ]
    },
    {
      "cell_type": "code",
      "metadata": {
        "colab": {
          "base_uri": "https://localhost:8080/"
        },
        "id": "3Wnq_26uqB1C",
        "outputId": "aa9b53bd-9c1d-4888-9a92-84c333660e9e"
      },
      "source": [
        "# Test our functions for first 10 events\n",
        "for event in events[:10]:\n",
        "  title, year = get_title_year(event)\n",
        "  url = get_image_url(event)\n",
        "  desc = get_description(event)\n",
        "  print(year, url, title)\n",
        "  print(desc)"
      ],
      "execution_count": 97,
      "outputs": [
        {
          "output_type": "stream",
          "text": [
            "1901 https://emlii.com/wp-content/uploads/2020/04/1587470234-9470-5356a7d7bb38f.jpg Queen Victoria’s Funeral\n",
            "Crowds line up to bid a final farewell to Queen Victoria. After 63 years on the throne, Victoria died at the age of 81 at Osborne House on The Isle of Wight. Her military state funeral was held on Saturday 2 February 1901 in St. George’s Chapel, Windsor Castle. She was the longest-reigning British monarch in history.\n",
            "None https://emlii.com/wp-content/uploads/2020/04/1587470231-2944-5356a7faa7b5d.jpg None\n",
            "Queen Victoria’s funeral procession, Windsor, 1901\n",
            "1903 https://emlii.com/wp-content/uploads/2020/04/1587470238-1367-5356a98eb8337.jpg Wright Brother’s First Flight\n",
            "On December 17 1903, news came through that two brothers had flown a curious air machine for more than a minute. This event marked a revolution in human transportation and was in fact one of human’s greatest achievements.\n",
            "1913 https://emlii.com/wp-content/uploads/2020/04/1587470235-3021-5356aa65cfc3b.jpg Emily Davison Throws Herself Under The Kings Horse\n",
            "Suffragette Emily Davison’s Derby Day protest ends in tragedy. She was a militant activist who fought for women’s suffrage in Britain. She was jailed on nine occasions and force-fed 49 times. She is best known for stepping in front of King George V’s horse Anmer at the Epsom Derby on 4 June 1913, sustaining injuries that resulted in her death four days later.\n",
            "1917 https://emlii.com/wp-content/uploads/2020/04/1587470234-1590-5356ab8edf490.jpg Abdication of the Tsar Nikolas II\n",
            "On March 15, 1917 following the Feburary Revolution, the Russian Tsar Nicholas abdicated, heralding the end of the Russian imperial empire. His reign saw Imperial Russia go from being one of the foremost great powers of the world to economic and military collapse. Enemies nicknamed him Nicholas the Bloody. Later he and his family were brutally murdered by the Bolsheviks on the night of July 16/17 1918.\n",
            "None https://emlii.com/wp-content/uploads/2020/04/1587470241-4527-5356ac8c2c4d7.jpg None\n",
            "The former tsar Nicholas II and his children sitting on the roof of a greenhouse during their captivity in Tobolsk.\n",
            "1921 https://emlii.com/wp-content/uploads/2020/04/1587470241-7102-5356acd866e2f.jpg Irish Free State Treaty Signed\n",
            "In late 1921, the Irish Free State Treaty is signed, establishing Ireland as a Dominion within the British Empire. Strictly speaking the Irish Free State treaty was signed on the 6th December 1921, not the 7th.\n",
            "1925 https://emlii.com/wp-content/uploads/2020/04/1587470241-6384-5356ae137cb35.jpg Suzanne Lenglen Breaks Wimbledon Record\n",
            "Suzanne Lenglen wins an unprecedented sixth singles title at Wimbledon in the space of seven years.\n",
            "1926 https://emlii.com/wp-content/uploads/2020/04/1587470244-7642-5356aecfa80a1.jpg Start Of UK General Strike\n",
            "Start Of UK General Strike (1926). The General Strike begins as a response to the British government’s attempts to lower wages for miners.\n",
            "1927 https://emlii.com/wp-content/uploads/2020/04/1587470250-6517-5356af74a8f05.jpg Charles Lindbergh Flies the Atlantic Solo\n",
            "Charles Lindbergh achieves the world’s first non-stop transatlantic flight.\n"
          ],
          "name": "stdout"
        }
      ]
    },
    {
      "cell_type": "code",
      "metadata": {
        "id": "e6uAvDFLomdL"
      },
      "source": [
        "# Loop through all events and put them in a list\n",
        "events_list = []\n",
        "for event in events:\n",
        "    title, year = get_title_year(event)\n",
        "    url = get_image_url(event)\n",
        "    desc = get_description(event)\n",
        "    events_list.append((title, year, desc, url))"
      ],
      "execution_count": 98,
      "outputs": []
    },
    {
      "cell_type": "code",
      "metadata": {
        "colab": {
          "base_uri": "https://localhost:8080/",
          "height": 677
        },
        "id": "SZ2rT8sWq8FY",
        "outputId": "6be87bdc-8eca-411a-af9e-9059ee8c99ef"
      },
      "source": [
        "df = pd.DataFrame(events_list, columns=[\n",
        "                  'Title', 'Year', 'Description', 'Img_url'])\n",
        "df.head(20)"
      ],
      "execution_count": 99,
      "outputs": [
        {
          "output_type": "execute_result",
          "data": {
            "text/html": [
              "<div>\n",
              "<style scoped>\n",
              "    .dataframe tbody tr th:only-of-type {\n",
              "        vertical-align: middle;\n",
              "    }\n",
              "\n",
              "    .dataframe tbody tr th {\n",
              "        vertical-align: top;\n",
              "    }\n",
              "\n",
              "    .dataframe thead th {\n",
              "        text-align: right;\n",
              "    }\n",
              "</style>\n",
              "<table border=\"1\" class=\"dataframe\">\n",
              "  <thead>\n",
              "    <tr style=\"text-align: right;\">\n",
              "      <th></th>\n",
              "      <th>Title</th>\n",
              "      <th>Year</th>\n",
              "      <th>Description</th>\n",
              "      <th>Img_url</th>\n",
              "    </tr>\n",
              "  </thead>\n",
              "  <tbody>\n",
              "    <tr>\n",
              "      <th>0</th>\n",
              "      <td>Queen Victoria’s Funeral</td>\n",
              "      <td>1901</td>\n",
              "      <td>Crowds line up to bid a final farewell to Quee...</td>\n",
              "      <td>https://emlii.com/wp-content/uploads/2020/04/1...</td>\n",
              "    </tr>\n",
              "    <tr>\n",
              "      <th>1</th>\n",
              "      <td>None</td>\n",
              "      <td>None</td>\n",
              "      <td>Queen Victoria’s funeral procession, Windsor, ...</td>\n",
              "      <td>https://emlii.com/wp-content/uploads/2020/04/1...</td>\n",
              "    </tr>\n",
              "    <tr>\n",
              "      <th>2</th>\n",
              "      <td>Wright Brother’s First Flight</td>\n",
              "      <td>1903</td>\n",
              "      <td>On December 17 1903, news came through that tw...</td>\n",
              "      <td>https://emlii.com/wp-content/uploads/2020/04/1...</td>\n",
              "    </tr>\n",
              "    <tr>\n",
              "      <th>3</th>\n",
              "      <td>Emily Davison Throws Herself Under The Kings H...</td>\n",
              "      <td>1913</td>\n",
              "      <td>Suffragette Emily Davison’s Derby Day protest ...</td>\n",
              "      <td>https://emlii.com/wp-content/uploads/2020/04/1...</td>\n",
              "    </tr>\n",
              "    <tr>\n",
              "      <th>4</th>\n",
              "      <td>Abdication of the Tsar Nikolas II</td>\n",
              "      <td>1917</td>\n",
              "      <td>On March 15, 1917 following the Feburary Revol...</td>\n",
              "      <td>https://emlii.com/wp-content/uploads/2020/04/1...</td>\n",
              "    </tr>\n",
              "    <tr>\n",
              "      <th>5</th>\n",
              "      <td>None</td>\n",
              "      <td>None</td>\n",
              "      <td>The former tsar Nicholas II and his children s...</td>\n",
              "      <td>https://emlii.com/wp-content/uploads/2020/04/1...</td>\n",
              "    </tr>\n",
              "    <tr>\n",
              "      <th>6</th>\n",
              "      <td>Irish Free State Treaty Signed</td>\n",
              "      <td>1921</td>\n",
              "      <td>In late 1921, the Irish Free State Treaty is s...</td>\n",
              "      <td>https://emlii.com/wp-content/uploads/2020/04/1...</td>\n",
              "    </tr>\n",
              "    <tr>\n",
              "      <th>7</th>\n",
              "      <td>Suzanne Lenglen Breaks Wimbledon Record</td>\n",
              "      <td>1925</td>\n",
              "      <td>Suzanne Lenglen wins an unprecedented sixth si...</td>\n",
              "      <td>https://emlii.com/wp-content/uploads/2020/04/1...</td>\n",
              "    </tr>\n",
              "    <tr>\n",
              "      <th>8</th>\n",
              "      <td>Start Of UK General Strike</td>\n",
              "      <td>1926</td>\n",
              "      <td>Start Of UK General Strike (1926). The General...</td>\n",
              "      <td>https://emlii.com/wp-content/uploads/2020/04/1...</td>\n",
              "    </tr>\n",
              "    <tr>\n",
              "      <th>9</th>\n",
              "      <td>Charles Lindbergh Flies the Atlantic Solo</td>\n",
              "      <td>1927</td>\n",
              "      <td>Charles Lindbergh achieves the world’s first n...</td>\n",
              "      <td>https://emlii.com/wp-content/uploads/2020/04/1...</td>\n",
              "    </tr>\n",
              "    <tr>\n",
              "      <th>10</th>\n",
              "      <td>None</td>\n",
              "      <td>None</td>\n",
              "      <td>On September 27th, 1930 the American golfer Bo...</td>\n",
              "      <td>https://emlii.com/wp-content/uploads/2020/04/1...</td>\n",
              "    </tr>\n",
              "    <tr>\n",
              "      <th>11</th>\n",
              "      <td>Hitler Becomes German Chancellor</td>\n",
              "      <td>1933</td>\n",
              "      <td>In an attempt to form a stable coalition gover...</td>\n",
              "      <td>https://emlii.com/wp-content/uploads/2020/04/1...</td>\n",
              "    </tr>\n",
              "    <tr>\n",
              "      <th>12</th>\n",
              "      <td>King Edward VIII Abdicates</td>\n",
              "      <td>1936</td>\n",
              "      <td>Edward VIII abdicates in order to marry the Am...</td>\n",
              "      <td>https://emlii.com/wp-content/uploads/2020/04/1...</td>\n",
              "    </tr>\n",
              "    <tr>\n",
              "      <th>13</th>\n",
              "      <td>Hindenburg Airship Crash</td>\n",
              "      <td>1937</td>\n",
              "      <td>The world’s largest airship, the Hindenburg, i...</td>\n",
              "      <td>https://emlii.com/wp-content/uploads/2020/04/1...</td>\n",
              "    </tr>\n",
              "    <tr>\n",
              "      <th>14</th>\n",
              "      <td>Hitler Annexes Austria</td>\n",
              "      <td>1938</td>\n",
              "      <td>Hitler achieves the ‘Anschluss’ of Germany and...</td>\n",
              "      <td>https://emlii.com/wp-content/uploads/2020/04/1...</td>\n",
              "    </tr>\n",
              "    <tr>\n",
              "      <th>15</th>\n",
              "      <td>None</td>\n",
              "      <td>None</td>\n",
              "      <td>Austria opens its gates to German troops.</td>\n",
              "      <td>https://emlii.com/wp-content/uploads/2020/04/1...</td>\n",
              "    </tr>\n",
              "    <tr>\n",
              "      <th>16</th>\n",
              "      <td>Germany Invades Poland</td>\n",
              "      <td>1939</td>\n",
              "      <td>On 1 September 1939, German forces invaded Pol...</td>\n",
              "      <td>https://emlii.com/wp-content/uploads/2020/04/1...</td>\n",
              "    </tr>\n",
              "    <tr>\n",
              "      <th>17</th>\n",
              "      <td>Evacuation of Dunkirk</td>\n",
              "      <td>1940</td>\n",
              "      <td>On 27th May 1940, the mass evacuation of Allie...</td>\n",
              "      <td>https://emlii.com/wp-content/uploads/2020/04/1...</td>\n",
              "    </tr>\n",
              "    <tr>\n",
              "      <th>18</th>\n",
              "      <td>London Blitz Begins</td>\n",
              "      <td>1940</td>\n",
              "      <td>On September 7, 1940 Germany begins its campai...</td>\n",
              "      <td>https://emlii.com/wp-content/uploads/2020/04/1...</td>\n",
              "    </tr>\n",
              "    <tr>\n",
              "      <th>19</th>\n",
              "      <td>None</td>\n",
              "      <td>None</td>\n",
              "      <td>London after the monstrous attacks that left s...</td>\n",
              "      <td>https://emlii.com/wp-content/uploads/2020/04/1...</td>\n",
              "    </tr>\n",
              "  </tbody>\n",
              "</table>\n",
              "</div>"
            ],
            "text/plain": [
              "                                                Title  Year  \\\n",
              "0                            Queen Victoria’s Funeral  1901   \n",
              "1                                                None  None   \n",
              "2                       Wright Brother’s First Flight  1903   \n",
              "3   Emily Davison Throws Herself Under The Kings H...  1913   \n",
              "4                   Abdication of the Tsar Nikolas II  1917   \n",
              "5                                                None  None   \n",
              "6                      Irish Free State Treaty Signed  1921   \n",
              "7             Suzanne Lenglen Breaks Wimbledon Record  1925   \n",
              "8                          Start Of UK General Strike  1926   \n",
              "9           Charles Lindbergh Flies the Atlantic Solo  1927   \n",
              "10                                               None  None   \n",
              "11                   Hitler Becomes German Chancellor  1933   \n",
              "12                         King Edward VIII Abdicates  1936   \n",
              "13                           Hindenburg Airship Crash  1937   \n",
              "14                             Hitler Annexes Austria  1938   \n",
              "15                                               None  None   \n",
              "16                             Germany Invades Poland  1939   \n",
              "17                              Evacuation of Dunkirk  1940   \n",
              "18                                London Blitz Begins  1940   \n",
              "19                                               None  None   \n",
              "\n",
              "                                          Description  \\\n",
              "0   Crowds line up to bid a final farewell to Quee...   \n",
              "1   Queen Victoria’s funeral procession, Windsor, ...   \n",
              "2   On December 17 1903, news came through that tw...   \n",
              "3   Suffragette Emily Davison’s Derby Day protest ...   \n",
              "4   On March 15, 1917 following the Feburary Revol...   \n",
              "5   The former tsar Nicholas II and his children s...   \n",
              "6   In late 1921, the Irish Free State Treaty is s...   \n",
              "7   Suzanne Lenglen wins an unprecedented sixth si...   \n",
              "8   Start Of UK General Strike (1926). The General...   \n",
              "9   Charles Lindbergh achieves the world’s first n...   \n",
              "10  On September 27th, 1930 the American golfer Bo...   \n",
              "11  In an attempt to form a stable coalition gover...   \n",
              "12  Edward VIII abdicates in order to marry the Am...   \n",
              "13  The world’s largest airship, the Hindenburg, i...   \n",
              "14  Hitler achieves the ‘Anschluss’ of Germany and...   \n",
              "15          Austria opens its gates to German troops.   \n",
              "16  On 1 September 1939, German forces invaded Pol...   \n",
              "17  On 27th May 1940, the mass evacuation of Allie...   \n",
              "18  On September 7, 1940 Germany begins its campai...   \n",
              "19  London after the monstrous attacks that left s...   \n",
              "\n",
              "                                              Img_url  \n",
              "0   https://emlii.com/wp-content/uploads/2020/04/1...  \n",
              "1   https://emlii.com/wp-content/uploads/2020/04/1...  \n",
              "2   https://emlii.com/wp-content/uploads/2020/04/1...  \n",
              "3   https://emlii.com/wp-content/uploads/2020/04/1...  \n",
              "4   https://emlii.com/wp-content/uploads/2020/04/1...  \n",
              "5   https://emlii.com/wp-content/uploads/2020/04/1...  \n",
              "6   https://emlii.com/wp-content/uploads/2020/04/1...  \n",
              "7   https://emlii.com/wp-content/uploads/2020/04/1...  \n",
              "8   https://emlii.com/wp-content/uploads/2020/04/1...  \n",
              "9   https://emlii.com/wp-content/uploads/2020/04/1...  \n",
              "10  https://emlii.com/wp-content/uploads/2020/04/1...  \n",
              "11  https://emlii.com/wp-content/uploads/2020/04/1...  \n",
              "12  https://emlii.com/wp-content/uploads/2020/04/1...  \n",
              "13  https://emlii.com/wp-content/uploads/2020/04/1...  \n",
              "14  https://emlii.com/wp-content/uploads/2020/04/1...  \n",
              "15  https://emlii.com/wp-content/uploads/2020/04/1...  \n",
              "16  https://emlii.com/wp-content/uploads/2020/04/1...  \n",
              "17  https://emlii.com/wp-content/uploads/2020/04/1...  \n",
              "18  https://emlii.com/wp-content/uploads/2020/04/1...  \n",
              "19  https://emlii.com/wp-content/uploads/2020/04/1...  "
            ]
          },
          "metadata": {
            "tags": []
          },
          "execution_count": 99
        }
      ]
    },
    {
      "cell_type": "code",
      "metadata": {
        "id": "Akl1j8dQunjg",
        "colab": {
          "base_uri": "https://localhost:8080/"
        },
        "outputId": "fec00bef-4405-4abc-b9d3-02635ce338eb"
      },
      "source": [
        "df.isna().sum()"
      ],
      "execution_count": 100,
      "outputs": [
        {
          "output_type": "execute_result",
          "data": {
            "text/plain": [
              "Title          12\n",
              "Year           12\n",
              "Description     0\n",
              "Img_url         0\n",
              "dtype: int64"
            ]
          },
          "metadata": {
            "tags": []
          },
          "execution_count": 100
        }
      ]
    },
    {
      "cell_type": "markdown",
      "metadata": {
        "id": "aKG6lTuztDal"
      },
      "source": [
        "From above results, we can see that there are some missing values in Title, Year and we need to revisit the web page to see if the structure is being followed across all events."
      ]
    },
    {
      "cell_type": "markdown",
      "metadata": {
        "id": "vrwqRG_Hupf3"
      },
      "source": [
        "## Data cleaning\n",
        "\n",
        "In our first attempt we could see that there are total 88 events extracted, though in the article, there are only 78 events to be precise. \n",
        "\n",
        "We revisited the article again and observe structure of events again and found certain discrepancies, as following:\n",
        "+ An event is extended into two `article-inner-block` divs and that's why we have 2 events instead of 1 for few events.\n",
        "+ Title (class=`article-subtitle`) doesn't have year at the end."
      ]
    },
    {
      "cell_type": "markdown",
      "metadata": {
        "id": "VaCMTx7b4WAz"
      },
      "source": [
        "Let's attempt above issues one by one.\n",
        "\n"
      ]
    },
    {
      "cell_type": "markdown",
      "metadata": {
        "id": "vH5GgKkZ8bMX"
      },
      "source": [
        "Handle issue\n",
        "\n",
        "Title (class=`article-subtitle`) doesn't have year at the end.\n",
        "\n",
        "In the event structure, we have 2 `h2` tags with different classes and one of them has year in it. \n",
        "\n",
        "So, if first `h2` tag doesn't have year, then we look into another `h2` tag and assume that should have year in it."
      ]
    },
    {
      "cell_type": "code",
      "metadata": {
        "id": "-p4zCk-D8hUz"
      },
      "source": [
        "# Example:\n",
        "# <h2 class=\"article-subtitle\">4. Abdication of the Tsar Nikolas II</h2>\n",
        "# ...\n",
        "# <h2 class=\"article-source\">Tsar Nicholas II in detention after his abdication in March 1917</h2>\n",
        "# ...\n",
        "\n",
        "# Define function to extract \"Title\", \"Year\" from event\n",
        "def get_year(event, class_='article-source'):\n",
        "  '''\n",
        "  Extract year from the event instance\n",
        "\n",
        "  Arguments:\n",
        "    event: An instance of BeautifulSoup object read from events\n",
        "    class_: class in Html. Default is 'article-source'.\n",
        "  \n",
        "  Returns:\n",
        "    year: Year of the event when available, otherwise None\n",
        "  '''\n",
        "  year = None\n",
        "  heading = event.find('h2', class_=class_)\n",
        "  if heading:\n",
        "      year = heading.text[-4:]\n",
        "      if not year.isdigit():\n",
        "        year = None\n",
        "  return year\n",
        "\n",
        "\n",
        "# Define function to extract \"Title\", \"Year\" from event\n",
        "def get_title_year(event):\n",
        "  '''\n",
        "  Extract title and year from the event instance\n",
        "\n",
        "  Arguments:\n",
        "    event: An instance of BeautifulSoup object read from events\n",
        "  \n",
        "  Returns:\n",
        "    title, year: Title and year of the event when available, otherwise None for \n",
        "    both\n",
        "  '''\n",
        "  title, year = None, None\n",
        "  heading = event.find('h2', class_='article-subtitle')\n",
        "  if heading:\n",
        "    heading_text = heading.text.strip().strip('.')\n",
        "    title = heading_text[3:-7]\n",
        "    year = heading_text[-5:-1]\n",
        "    if not year.isdigit():\n",
        "      year = get_year(event)\n",
        "      if year:\n",
        "        title = heading_text[3:]\n",
        "  return title, year\n"
      ],
      "execution_count": 101,
      "outputs": []
    },
    {
      "cell_type": "code",
      "metadata": {
        "id": "gDG5tcR3-_Ae",
        "outputId": "8028ab79-e051-4681-e888-59c879e8f3c5",
        "colab": {
          "base_uri": "https://localhost:8080/"
        }
      },
      "source": [
        "for event in events[:5]:\n",
        "  title, year = get_title_year(event)\n",
        "  print(year, title)"
      ],
      "execution_count": 102,
      "outputs": [
        {
          "output_type": "stream",
          "text": [
            "1901 Queen Victoria’s Funeral\n",
            "None None\n",
            "1903 Wright Brother’s First Flight\n",
            "1913 Emily Davison Throws Herself Under The Kings Horse\n",
            "1917 Abdication of the Tsar Nikolas II\n"
          ],
          "name": "stdout"
        }
      ]
    },
    {
      "cell_type": "markdown",
      "metadata": {
        "id": "mSScCjLZ8Sb6"
      },
      "source": [
        "Handle issue\n",
        "\n",
        "An event is extended into two `article-inner-block` divs and that's why we have 2 events instead of 1 for few events."
      ]
    },
    {
      "cell_type": "code",
      "metadata": {
        "id": "q2joX3Cu4VZ2",
        "outputId": "19230080-d9e0-4ecf-869e-cb763450a932",
        "colab": {
          "base_uri": "https://localhost:8080/"
        }
      },
      "source": [
        "# Loop through all events and put them in 2 lists such as:\n",
        "#  - Put valid event in 1st list with a mapping or event index\n",
        "#  - Put extension event in 2nd list with mapping to previous seen event\n",
        "events_list = []\n",
        "ext_events_list = []\n",
        "for id, event in enumerate(events):\n",
        "    title, year = get_title_year(event)\n",
        "    url = get_image_url(event)\n",
        "    desc = get_description(event)\n",
        "    index = id\n",
        "    if title:\n",
        "      events_list.append((index, title, year, desc, url))\n",
        "    else:\n",
        "      # This is an extension of previous event\n",
        "      ext_events_list.append((index-1, desc, url))\n",
        "\n",
        "print('Actual events count:', len(events_list))\n",
        "print('Extension events count:', len(ext_events_list))"
      ],
      "execution_count": 103,
      "outputs": [
        {
          "output_type": "stream",
          "text": [
            "Actual events count: 76\n",
            "Extension events count: 12\n"
          ],
          "name": "stdout"
        }
      ]
    },
    {
      "cell_type": "code",
      "metadata": {
        "id": "Ta4G1-GifEBo"
      },
      "source": [
        "df = pd.DataFrame(events_list, columns=['Index','Title','Year','Description','Url'])\n",
        "ext_df = pd.DataFrame(ext_events_list, columns=['Index', 'Description (extra)', 'Url (extra)'])"
      ],
      "execution_count": 104,
      "outputs": []
    },
    {
      "cell_type": "code",
      "metadata": {
        "id": "T3CNtSmb61Qx",
        "outputId": "995a3998-a13b-4fd0-bb22-e3b64b832335",
        "colab": {
          "base_uri": "https://localhost:8080/",
          "height": 677
        }
      },
      "source": [
        "df.head(20)"
      ],
      "execution_count": 105,
      "outputs": [
        {
          "output_type": "execute_result",
          "data": {
            "text/html": [
              "<div>\n",
              "<style scoped>\n",
              "    .dataframe tbody tr th:only-of-type {\n",
              "        vertical-align: middle;\n",
              "    }\n",
              "\n",
              "    .dataframe tbody tr th {\n",
              "        vertical-align: top;\n",
              "    }\n",
              "\n",
              "    .dataframe thead th {\n",
              "        text-align: right;\n",
              "    }\n",
              "</style>\n",
              "<table border=\"1\" class=\"dataframe\">\n",
              "  <thead>\n",
              "    <tr style=\"text-align: right;\">\n",
              "      <th></th>\n",
              "      <th>Index</th>\n",
              "      <th>Title</th>\n",
              "      <th>Year</th>\n",
              "      <th>Description</th>\n",
              "      <th>Url</th>\n",
              "    </tr>\n",
              "  </thead>\n",
              "  <tbody>\n",
              "    <tr>\n",
              "      <th>0</th>\n",
              "      <td>0</td>\n",
              "      <td>Queen Victoria’s Funeral</td>\n",
              "      <td>1901</td>\n",
              "      <td>Crowds line up to bid a final farewell to Quee...</td>\n",
              "      <td>https://emlii.com/wp-content/uploads/2020/04/1...</td>\n",
              "    </tr>\n",
              "    <tr>\n",
              "      <th>1</th>\n",
              "      <td>2</td>\n",
              "      <td>Wright Brother’s First Flight</td>\n",
              "      <td>1903</td>\n",
              "      <td>On December 17 1903, news came through that tw...</td>\n",
              "      <td>https://emlii.com/wp-content/uploads/2020/04/1...</td>\n",
              "    </tr>\n",
              "    <tr>\n",
              "      <th>2</th>\n",
              "      <td>3</td>\n",
              "      <td>Emily Davison Throws Herself Under The Kings H...</td>\n",
              "      <td>1913</td>\n",
              "      <td>Suffragette Emily Davison’s Derby Day protest ...</td>\n",
              "      <td>https://emlii.com/wp-content/uploads/2020/04/1...</td>\n",
              "    </tr>\n",
              "    <tr>\n",
              "      <th>3</th>\n",
              "      <td>4</td>\n",
              "      <td>Abdication of the Tsar Nikolas II</td>\n",
              "      <td>1917</td>\n",
              "      <td>On March 15, 1917 following the Feburary Revol...</td>\n",
              "      <td>https://emlii.com/wp-content/uploads/2020/04/1...</td>\n",
              "    </tr>\n",
              "    <tr>\n",
              "      <th>4</th>\n",
              "      <td>6</td>\n",
              "      <td>Irish Free State Treaty Signed</td>\n",
              "      <td>1921</td>\n",
              "      <td>In late 1921, the Irish Free State Treaty is s...</td>\n",
              "      <td>https://emlii.com/wp-content/uploads/2020/04/1...</td>\n",
              "    </tr>\n",
              "    <tr>\n",
              "      <th>5</th>\n",
              "      <td>7</td>\n",
              "      <td>Suzanne Lenglen Breaks Wimbledon Record</td>\n",
              "      <td>1925</td>\n",
              "      <td>Suzanne Lenglen wins an unprecedented sixth si...</td>\n",
              "      <td>https://emlii.com/wp-content/uploads/2020/04/1...</td>\n",
              "    </tr>\n",
              "    <tr>\n",
              "      <th>6</th>\n",
              "      <td>8</td>\n",
              "      <td>Start Of UK General Strike</td>\n",
              "      <td>1926</td>\n",
              "      <td>Start Of UK General Strike (1926). The General...</td>\n",
              "      <td>https://emlii.com/wp-content/uploads/2020/04/1...</td>\n",
              "    </tr>\n",
              "    <tr>\n",
              "      <th>7</th>\n",
              "      <td>9</td>\n",
              "      <td>Charles Lindbergh Flies the Atlantic Solo</td>\n",
              "      <td>1927</td>\n",
              "      <td>Charles Lindbergh achieves the world’s first n...</td>\n",
              "      <td>https://emlii.com/wp-content/uploads/2020/04/1...</td>\n",
              "    </tr>\n",
              "    <tr>\n",
              "      <th>8</th>\n",
              "      <td>11</td>\n",
              "      <td>Hitler Becomes German Chancellor</td>\n",
              "      <td>1933</td>\n",
              "      <td>In an attempt to form a stable coalition gover...</td>\n",
              "      <td>https://emlii.com/wp-content/uploads/2020/04/1...</td>\n",
              "    </tr>\n",
              "    <tr>\n",
              "      <th>9</th>\n",
              "      <td>12</td>\n",
              "      <td>King Edward VIII Abdicates</td>\n",
              "      <td>1936</td>\n",
              "      <td>Edward VIII abdicates in order to marry the Am...</td>\n",
              "      <td>https://emlii.com/wp-content/uploads/2020/04/1...</td>\n",
              "    </tr>\n",
              "    <tr>\n",
              "      <th>10</th>\n",
              "      <td>13</td>\n",
              "      <td>Hindenburg Airship Crash</td>\n",
              "      <td>1937</td>\n",
              "      <td>The world’s largest airship, the Hindenburg, i...</td>\n",
              "      <td>https://emlii.com/wp-content/uploads/2020/04/1...</td>\n",
              "    </tr>\n",
              "    <tr>\n",
              "      <th>11</th>\n",
              "      <td>14</td>\n",
              "      <td>Hitler Annexes Austria</td>\n",
              "      <td>1938</td>\n",
              "      <td>Hitler achieves the ‘Anschluss’ of Germany and...</td>\n",
              "      <td>https://emlii.com/wp-content/uploads/2020/04/1...</td>\n",
              "    </tr>\n",
              "    <tr>\n",
              "      <th>12</th>\n",
              "      <td>16</td>\n",
              "      <td>Germany Invades Poland</td>\n",
              "      <td>1939</td>\n",
              "      <td>On 1 September 1939, German forces invaded Pol...</td>\n",
              "      <td>https://emlii.com/wp-content/uploads/2020/04/1...</td>\n",
              "    </tr>\n",
              "    <tr>\n",
              "      <th>13</th>\n",
              "      <td>17</td>\n",
              "      <td>Evacuation of Dunkirk</td>\n",
              "      <td>1940</td>\n",
              "      <td>On 27th May 1940, the mass evacuation of Allie...</td>\n",
              "      <td>https://emlii.com/wp-content/uploads/2020/04/1...</td>\n",
              "    </tr>\n",
              "    <tr>\n",
              "      <th>14</th>\n",
              "      <td>18</td>\n",
              "      <td>London Blitz Begins</td>\n",
              "      <td>1940</td>\n",
              "      <td>On September 7, 1940 Germany begins its campai...</td>\n",
              "      <td>https://emlii.com/wp-content/uploads/2020/04/1...</td>\n",
              "    </tr>\n",
              "    <tr>\n",
              "      <th>15</th>\n",
              "      <td>20</td>\n",
              "      <td>Pearl Harbour Attacked</td>\n",
              "      <td>1941</td>\n",
              "      <td>December 7th 1941 – The Imperial Japanese Navy...</td>\n",
              "      <td>https://emlii.com/wp-content/uploads/2020/04/1...</td>\n",
              "    </tr>\n",
              "    <tr>\n",
              "      <th>16</th>\n",
              "      <td>21</td>\n",
              "      <td>Fall of Stalingrad</td>\n",
              "      <td>1943</td>\n",
              "      <td>The greatest battle of WW2 ended on 31st Jan 1...</td>\n",
              "      <td>https://emlii.com/wp-content/uploads/2020/04/1...</td>\n",
              "    </tr>\n",
              "    <tr>\n",
              "      <th>17</th>\n",
              "      <td>22</td>\n",
              "      <td>D-Day Landings</td>\n",
              "      <td>1944</td>\n",
              "      <td>On June 6 1944, Allied troops begin their inva...</td>\n",
              "      <td>https://emlii.com/wp-content/uploads/2020/04/1...</td>\n",
              "    </tr>\n",
              "    <tr>\n",
              "      <th>18</th>\n",
              "      <td>23</td>\n",
              "      <td>Liberation of Paris</td>\n",
              "      <td>1944</td>\n",
              "      <td>On August 25th, 1944 after 4years of occupatio...</td>\n",
              "      <td>https://emlii.com/wp-content/uploads/2020/04/1...</td>\n",
              "    </tr>\n",
              "    <tr>\n",
              "      <th>19</th>\n",
              "      <td>24</td>\n",
              "      <td>Churchill, Stalin and Roosevelt Meet at Yalta</td>\n",
              "      <td>1945</td>\n",
              "      <td>On February 12th 1945, a communicate was issue...</td>\n",
              "      <td>https://emlii.com/wp-content/uploads/2020/04/1...</td>\n",
              "    </tr>\n",
              "  </tbody>\n",
              "</table>\n",
              "</div>"
            ],
            "text/plain": [
              "    Index                                              Title  Year  \\\n",
              "0       0                           Queen Victoria’s Funeral  1901   \n",
              "1       2                      Wright Brother’s First Flight  1903   \n",
              "2       3  Emily Davison Throws Herself Under The Kings H...  1913   \n",
              "3       4                  Abdication of the Tsar Nikolas II  1917   \n",
              "4       6                     Irish Free State Treaty Signed  1921   \n",
              "5       7            Suzanne Lenglen Breaks Wimbledon Record  1925   \n",
              "6       8                         Start Of UK General Strike  1926   \n",
              "7       9          Charles Lindbergh Flies the Atlantic Solo  1927   \n",
              "8      11                   Hitler Becomes German Chancellor  1933   \n",
              "9      12                         King Edward VIII Abdicates  1936   \n",
              "10     13                           Hindenburg Airship Crash  1937   \n",
              "11     14                             Hitler Annexes Austria  1938   \n",
              "12     16                             Germany Invades Poland  1939   \n",
              "13     17                              Evacuation of Dunkirk  1940   \n",
              "14     18                                London Blitz Begins  1940   \n",
              "15     20                             Pearl Harbour Attacked  1941   \n",
              "16     21                                 Fall of Stalingrad  1943   \n",
              "17     22                                     D-Day Landings  1944   \n",
              "18     23                                Liberation of Paris  1944   \n",
              "19     24      Churchill, Stalin and Roosevelt Meet at Yalta  1945   \n",
              "\n",
              "                                          Description  \\\n",
              "0   Crowds line up to bid a final farewell to Quee...   \n",
              "1   On December 17 1903, news came through that tw...   \n",
              "2   Suffragette Emily Davison’s Derby Day protest ...   \n",
              "3   On March 15, 1917 following the Feburary Revol...   \n",
              "4   In late 1921, the Irish Free State Treaty is s...   \n",
              "5   Suzanne Lenglen wins an unprecedented sixth si...   \n",
              "6   Start Of UK General Strike (1926). The General...   \n",
              "7   Charles Lindbergh achieves the world’s first n...   \n",
              "8   In an attempt to form a stable coalition gover...   \n",
              "9   Edward VIII abdicates in order to marry the Am...   \n",
              "10  The world’s largest airship, the Hindenburg, i...   \n",
              "11  Hitler achieves the ‘Anschluss’ of Germany and...   \n",
              "12  On 1 September 1939, German forces invaded Pol...   \n",
              "13  On 27th May 1940, the mass evacuation of Allie...   \n",
              "14  On September 7, 1940 Germany begins its campai...   \n",
              "15  December 7th 1941 – The Imperial Japanese Navy...   \n",
              "16  The greatest battle of WW2 ended on 31st Jan 1...   \n",
              "17  On June 6 1944, Allied troops begin their inva...   \n",
              "18  On August 25th, 1944 after 4years of occupatio...   \n",
              "19  On February 12th 1945, a communicate was issue...   \n",
              "\n",
              "                                                  Url  \n",
              "0   https://emlii.com/wp-content/uploads/2020/04/1...  \n",
              "1   https://emlii.com/wp-content/uploads/2020/04/1...  \n",
              "2   https://emlii.com/wp-content/uploads/2020/04/1...  \n",
              "3   https://emlii.com/wp-content/uploads/2020/04/1...  \n",
              "4   https://emlii.com/wp-content/uploads/2020/04/1...  \n",
              "5   https://emlii.com/wp-content/uploads/2020/04/1...  \n",
              "6   https://emlii.com/wp-content/uploads/2020/04/1...  \n",
              "7   https://emlii.com/wp-content/uploads/2020/04/1...  \n",
              "8   https://emlii.com/wp-content/uploads/2020/04/1...  \n",
              "9   https://emlii.com/wp-content/uploads/2020/04/1...  \n",
              "10  https://emlii.com/wp-content/uploads/2020/04/1...  \n",
              "11  https://emlii.com/wp-content/uploads/2020/04/1...  \n",
              "12  https://emlii.com/wp-content/uploads/2020/04/1...  \n",
              "13  https://emlii.com/wp-content/uploads/2020/04/1...  \n",
              "14  https://emlii.com/wp-content/uploads/2020/04/1...  \n",
              "15  https://emlii.com/wp-content/uploads/2020/04/1...  \n",
              "16  https://emlii.com/wp-content/uploads/2020/04/1...  \n",
              "17  https://emlii.com/wp-content/uploads/2020/04/1...  \n",
              "18  https://emlii.com/wp-content/uploads/2020/04/1...  \n",
              "19  https://emlii.com/wp-content/uploads/2020/04/1...  "
            ]
          },
          "metadata": {
            "tags": []
          },
          "execution_count": 105
        }
      ]
    },
    {
      "cell_type": "code",
      "metadata": {
        "id": "fTZx6mjK62mg",
        "outputId": "537255b1-1e1d-488a-c00c-9dcb03589806",
        "colab": {
          "base_uri": "https://localhost:8080/",
          "height": 363
        }
      },
      "source": [
        "ext_df.head(10)"
      ],
      "execution_count": 106,
      "outputs": [
        {
          "output_type": "execute_result",
          "data": {
            "text/html": [
              "<div>\n",
              "<style scoped>\n",
              "    .dataframe tbody tr th:only-of-type {\n",
              "        vertical-align: middle;\n",
              "    }\n",
              "\n",
              "    .dataframe tbody tr th {\n",
              "        vertical-align: top;\n",
              "    }\n",
              "\n",
              "    .dataframe thead th {\n",
              "        text-align: right;\n",
              "    }\n",
              "</style>\n",
              "<table border=\"1\" class=\"dataframe\">\n",
              "  <thead>\n",
              "    <tr style=\"text-align: right;\">\n",
              "      <th></th>\n",
              "      <th>Index</th>\n",
              "      <th>Description (extra)</th>\n",
              "      <th>Url (extra)</th>\n",
              "    </tr>\n",
              "  </thead>\n",
              "  <tbody>\n",
              "    <tr>\n",
              "      <th>0</th>\n",
              "      <td>0</td>\n",
              "      <td>Queen Victoria’s funeral procession, Windsor, ...</td>\n",
              "      <td>https://emlii.com/wp-content/uploads/2020/04/1...</td>\n",
              "    </tr>\n",
              "    <tr>\n",
              "      <th>1</th>\n",
              "      <td>4</td>\n",
              "      <td>The former tsar Nicholas II and his children s...</td>\n",
              "      <td>https://emlii.com/wp-content/uploads/2020/04/1...</td>\n",
              "    </tr>\n",
              "    <tr>\n",
              "      <th>2</th>\n",
              "      <td>9</td>\n",
              "      <td>On September 27th, 1930 the American golfer Bo...</td>\n",
              "      <td>https://emlii.com/wp-content/uploads/2020/04/1...</td>\n",
              "    </tr>\n",
              "    <tr>\n",
              "      <th>3</th>\n",
              "      <td>14</td>\n",
              "      <td>Austria opens its gates to German troops.</td>\n",
              "      <td>https://emlii.com/wp-content/uploads/2020/04/1...</td>\n",
              "    </tr>\n",
              "    <tr>\n",
              "      <th>4</th>\n",
              "      <td>18</td>\n",
              "      <td>London after the monstrous attacks that left s...</td>\n",
              "      <td>https://emlii.com/wp-content/uploads/2020/04/1...</td>\n",
              "    </tr>\n",
              "    <tr>\n",
              "      <th>5</th>\n",
              "      <td>29</td>\n",
              "      <td>India hoists its flag for the first time on th...</td>\n",
              "      <td>https://emlii.com/wp-content/uploads/2020/04/1...</td>\n",
              "    </tr>\n",
              "    <tr>\n",
              "      <th>6</th>\n",
              "      <td>37</td>\n",
              "      <td>The famous Manchester United Football team who...</td>\n",
              "      <td>https://emlii.com/wp-content/uploads/2020/04/1...</td>\n",
              "    </tr>\n",
              "    <tr>\n",
              "      <th>7</th>\n",
              "      <td>51</td>\n",
              "      <td>First human footprint on the moon : Neil Armst...</td>\n",
              "      <td>https://emlii.com/wp-content/uploads/2020/04/1...</td>\n",
              "    </tr>\n",
              "    <tr>\n",
              "      <th>8</th>\n",
              "      <td>57</td>\n",
              "      <td>A starving family in a famine-ravaged village ...</td>\n",
              "      <td>https://emlii.com/wp-content/uploads/2020/04/1...</td>\n",
              "    </tr>\n",
              "    <tr>\n",
              "      <th>9</th>\n",
              "      <td>60</td>\n",
              "      <td>The crew members of the doomed space shuttle C...</td>\n",
              "      <td>https://emlii.com/wp-content/uploads/2020/04/1...</td>\n",
              "    </tr>\n",
              "  </tbody>\n",
              "</table>\n",
              "</div>"
            ],
            "text/plain": [
              "   Index                                Description (extra)  \\\n",
              "0      0  Queen Victoria’s funeral procession, Windsor, ...   \n",
              "1      4  The former tsar Nicholas II and his children s...   \n",
              "2      9  On September 27th, 1930 the American golfer Bo...   \n",
              "3     14          Austria opens its gates to German troops.   \n",
              "4     18  London after the monstrous attacks that left s...   \n",
              "5     29  India hoists its flag for the first time on th...   \n",
              "6     37  The famous Manchester United Football team who...   \n",
              "7     51  First human footprint on the moon : Neil Armst...   \n",
              "8     57  A starving family in a famine-ravaged village ...   \n",
              "9     60  The crew members of the doomed space shuttle C...   \n",
              "\n",
              "                                         Url (extra)  \n",
              "0  https://emlii.com/wp-content/uploads/2020/04/1...  \n",
              "1  https://emlii.com/wp-content/uploads/2020/04/1...  \n",
              "2  https://emlii.com/wp-content/uploads/2020/04/1...  \n",
              "3  https://emlii.com/wp-content/uploads/2020/04/1...  \n",
              "4  https://emlii.com/wp-content/uploads/2020/04/1...  \n",
              "5  https://emlii.com/wp-content/uploads/2020/04/1...  \n",
              "6  https://emlii.com/wp-content/uploads/2020/04/1...  \n",
              "7  https://emlii.com/wp-content/uploads/2020/04/1...  \n",
              "8  https://emlii.com/wp-content/uploads/2020/04/1...  \n",
              "9  https://emlii.com/wp-content/uploads/2020/04/1...  "
            ]
          },
          "metadata": {
            "tags": []
          },
          "execution_count": 106
        }
      ]
    },
    {
      "cell_type": "code",
      "metadata": {
        "id": "bK49PwPO694g",
        "outputId": "7be55988-7eb4-4def-910a-c7713b7a6cd5",
        "colab": {
          "base_uri": "https://localhost:8080/",
          "height": 677
        }
      },
      "source": [
        "# We can merge these 2 DataFrames based on 'Index' column\n",
        "df_merged = pd.merge(left=df, right=ext_df, how='left', on='Index')\n",
        "df_merged.drop('Index', axis=1, inplace=True)\n",
        "df_merged.head(20)"
      ],
      "execution_count": 107,
      "outputs": [
        {
          "output_type": "execute_result",
          "data": {
            "text/html": [
              "<div>\n",
              "<style scoped>\n",
              "    .dataframe tbody tr th:only-of-type {\n",
              "        vertical-align: middle;\n",
              "    }\n",
              "\n",
              "    .dataframe tbody tr th {\n",
              "        vertical-align: top;\n",
              "    }\n",
              "\n",
              "    .dataframe thead th {\n",
              "        text-align: right;\n",
              "    }\n",
              "</style>\n",
              "<table border=\"1\" class=\"dataframe\">\n",
              "  <thead>\n",
              "    <tr style=\"text-align: right;\">\n",
              "      <th></th>\n",
              "      <th>Title</th>\n",
              "      <th>Year</th>\n",
              "      <th>Description</th>\n",
              "      <th>Url</th>\n",
              "      <th>Description (extra)</th>\n",
              "      <th>Url (extra)</th>\n",
              "    </tr>\n",
              "  </thead>\n",
              "  <tbody>\n",
              "    <tr>\n",
              "      <th>0</th>\n",
              "      <td>Queen Victoria’s Funeral</td>\n",
              "      <td>1901</td>\n",
              "      <td>Crowds line up to bid a final farewell to Quee...</td>\n",
              "      <td>https://emlii.com/wp-content/uploads/2020/04/1...</td>\n",
              "      <td>Queen Victoria’s funeral procession, Windsor, ...</td>\n",
              "      <td>https://emlii.com/wp-content/uploads/2020/04/1...</td>\n",
              "    </tr>\n",
              "    <tr>\n",
              "      <th>1</th>\n",
              "      <td>Wright Brother’s First Flight</td>\n",
              "      <td>1903</td>\n",
              "      <td>On December 17 1903, news came through that tw...</td>\n",
              "      <td>https://emlii.com/wp-content/uploads/2020/04/1...</td>\n",
              "      <td>NaN</td>\n",
              "      <td>NaN</td>\n",
              "    </tr>\n",
              "    <tr>\n",
              "      <th>2</th>\n",
              "      <td>Emily Davison Throws Herself Under The Kings H...</td>\n",
              "      <td>1913</td>\n",
              "      <td>Suffragette Emily Davison’s Derby Day protest ...</td>\n",
              "      <td>https://emlii.com/wp-content/uploads/2020/04/1...</td>\n",
              "      <td>NaN</td>\n",
              "      <td>NaN</td>\n",
              "    </tr>\n",
              "    <tr>\n",
              "      <th>3</th>\n",
              "      <td>Abdication of the Tsar Nikolas II</td>\n",
              "      <td>1917</td>\n",
              "      <td>On March 15, 1917 following the Feburary Revol...</td>\n",
              "      <td>https://emlii.com/wp-content/uploads/2020/04/1...</td>\n",
              "      <td>The former tsar Nicholas II and his children s...</td>\n",
              "      <td>https://emlii.com/wp-content/uploads/2020/04/1...</td>\n",
              "    </tr>\n",
              "    <tr>\n",
              "      <th>4</th>\n",
              "      <td>Irish Free State Treaty Signed</td>\n",
              "      <td>1921</td>\n",
              "      <td>In late 1921, the Irish Free State Treaty is s...</td>\n",
              "      <td>https://emlii.com/wp-content/uploads/2020/04/1...</td>\n",
              "      <td>NaN</td>\n",
              "      <td>NaN</td>\n",
              "    </tr>\n",
              "    <tr>\n",
              "      <th>5</th>\n",
              "      <td>Suzanne Lenglen Breaks Wimbledon Record</td>\n",
              "      <td>1925</td>\n",
              "      <td>Suzanne Lenglen wins an unprecedented sixth si...</td>\n",
              "      <td>https://emlii.com/wp-content/uploads/2020/04/1...</td>\n",
              "      <td>NaN</td>\n",
              "      <td>NaN</td>\n",
              "    </tr>\n",
              "    <tr>\n",
              "      <th>6</th>\n",
              "      <td>Start Of UK General Strike</td>\n",
              "      <td>1926</td>\n",
              "      <td>Start Of UK General Strike (1926). The General...</td>\n",
              "      <td>https://emlii.com/wp-content/uploads/2020/04/1...</td>\n",
              "      <td>NaN</td>\n",
              "      <td>NaN</td>\n",
              "    </tr>\n",
              "    <tr>\n",
              "      <th>7</th>\n",
              "      <td>Charles Lindbergh Flies the Atlantic Solo</td>\n",
              "      <td>1927</td>\n",
              "      <td>Charles Lindbergh achieves the world’s first n...</td>\n",
              "      <td>https://emlii.com/wp-content/uploads/2020/04/1...</td>\n",
              "      <td>On September 27th, 1930 the American golfer Bo...</td>\n",
              "      <td>https://emlii.com/wp-content/uploads/2020/04/1...</td>\n",
              "    </tr>\n",
              "    <tr>\n",
              "      <th>8</th>\n",
              "      <td>Hitler Becomes German Chancellor</td>\n",
              "      <td>1933</td>\n",
              "      <td>In an attempt to form a stable coalition gover...</td>\n",
              "      <td>https://emlii.com/wp-content/uploads/2020/04/1...</td>\n",
              "      <td>NaN</td>\n",
              "      <td>NaN</td>\n",
              "    </tr>\n",
              "    <tr>\n",
              "      <th>9</th>\n",
              "      <td>King Edward VIII Abdicates</td>\n",
              "      <td>1936</td>\n",
              "      <td>Edward VIII abdicates in order to marry the Am...</td>\n",
              "      <td>https://emlii.com/wp-content/uploads/2020/04/1...</td>\n",
              "      <td>NaN</td>\n",
              "      <td>NaN</td>\n",
              "    </tr>\n",
              "    <tr>\n",
              "      <th>10</th>\n",
              "      <td>Hindenburg Airship Crash</td>\n",
              "      <td>1937</td>\n",
              "      <td>The world’s largest airship, the Hindenburg, i...</td>\n",
              "      <td>https://emlii.com/wp-content/uploads/2020/04/1...</td>\n",
              "      <td>NaN</td>\n",
              "      <td>NaN</td>\n",
              "    </tr>\n",
              "    <tr>\n",
              "      <th>11</th>\n",
              "      <td>Hitler Annexes Austria</td>\n",
              "      <td>1938</td>\n",
              "      <td>Hitler achieves the ‘Anschluss’ of Germany and...</td>\n",
              "      <td>https://emlii.com/wp-content/uploads/2020/04/1...</td>\n",
              "      <td>Austria opens its gates to German troops.</td>\n",
              "      <td>https://emlii.com/wp-content/uploads/2020/04/1...</td>\n",
              "    </tr>\n",
              "    <tr>\n",
              "      <th>12</th>\n",
              "      <td>Germany Invades Poland</td>\n",
              "      <td>1939</td>\n",
              "      <td>On 1 September 1939, German forces invaded Pol...</td>\n",
              "      <td>https://emlii.com/wp-content/uploads/2020/04/1...</td>\n",
              "      <td>NaN</td>\n",
              "      <td>NaN</td>\n",
              "    </tr>\n",
              "    <tr>\n",
              "      <th>13</th>\n",
              "      <td>Evacuation of Dunkirk</td>\n",
              "      <td>1940</td>\n",
              "      <td>On 27th May 1940, the mass evacuation of Allie...</td>\n",
              "      <td>https://emlii.com/wp-content/uploads/2020/04/1...</td>\n",
              "      <td>NaN</td>\n",
              "      <td>NaN</td>\n",
              "    </tr>\n",
              "    <tr>\n",
              "      <th>14</th>\n",
              "      <td>London Blitz Begins</td>\n",
              "      <td>1940</td>\n",
              "      <td>On September 7, 1940 Germany begins its campai...</td>\n",
              "      <td>https://emlii.com/wp-content/uploads/2020/04/1...</td>\n",
              "      <td>London after the monstrous attacks that left s...</td>\n",
              "      <td>https://emlii.com/wp-content/uploads/2020/04/1...</td>\n",
              "    </tr>\n",
              "    <tr>\n",
              "      <th>15</th>\n",
              "      <td>Pearl Harbour Attacked</td>\n",
              "      <td>1941</td>\n",
              "      <td>December 7th 1941 – The Imperial Japanese Navy...</td>\n",
              "      <td>https://emlii.com/wp-content/uploads/2020/04/1...</td>\n",
              "      <td>NaN</td>\n",
              "      <td>NaN</td>\n",
              "    </tr>\n",
              "    <tr>\n",
              "      <th>16</th>\n",
              "      <td>Fall of Stalingrad</td>\n",
              "      <td>1943</td>\n",
              "      <td>The greatest battle of WW2 ended on 31st Jan 1...</td>\n",
              "      <td>https://emlii.com/wp-content/uploads/2020/04/1...</td>\n",
              "      <td>NaN</td>\n",
              "      <td>NaN</td>\n",
              "    </tr>\n",
              "    <tr>\n",
              "      <th>17</th>\n",
              "      <td>D-Day Landings</td>\n",
              "      <td>1944</td>\n",
              "      <td>On June 6 1944, Allied troops begin their inva...</td>\n",
              "      <td>https://emlii.com/wp-content/uploads/2020/04/1...</td>\n",
              "      <td>NaN</td>\n",
              "      <td>NaN</td>\n",
              "    </tr>\n",
              "    <tr>\n",
              "      <th>18</th>\n",
              "      <td>Liberation of Paris</td>\n",
              "      <td>1944</td>\n",
              "      <td>On August 25th, 1944 after 4years of occupatio...</td>\n",
              "      <td>https://emlii.com/wp-content/uploads/2020/04/1...</td>\n",
              "      <td>NaN</td>\n",
              "      <td>NaN</td>\n",
              "    </tr>\n",
              "    <tr>\n",
              "      <th>19</th>\n",
              "      <td>Churchill, Stalin and Roosevelt Meet at Yalta</td>\n",
              "      <td>1945</td>\n",
              "      <td>On February 12th 1945, a communicate was issue...</td>\n",
              "      <td>https://emlii.com/wp-content/uploads/2020/04/1...</td>\n",
              "      <td>NaN</td>\n",
              "      <td>NaN</td>\n",
              "    </tr>\n",
              "  </tbody>\n",
              "</table>\n",
              "</div>"
            ],
            "text/plain": [
              "                                                Title  Year  \\\n",
              "0                            Queen Victoria’s Funeral  1901   \n",
              "1                       Wright Brother’s First Flight  1903   \n",
              "2   Emily Davison Throws Herself Under The Kings H...  1913   \n",
              "3                   Abdication of the Tsar Nikolas II  1917   \n",
              "4                      Irish Free State Treaty Signed  1921   \n",
              "5             Suzanne Lenglen Breaks Wimbledon Record  1925   \n",
              "6                          Start Of UK General Strike  1926   \n",
              "7           Charles Lindbergh Flies the Atlantic Solo  1927   \n",
              "8                    Hitler Becomes German Chancellor  1933   \n",
              "9                          King Edward VIII Abdicates  1936   \n",
              "10                           Hindenburg Airship Crash  1937   \n",
              "11                             Hitler Annexes Austria  1938   \n",
              "12                             Germany Invades Poland  1939   \n",
              "13                              Evacuation of Dunkirk  1940   \n",
              "14                                London Blitz Begins  1940   \n",
              "15                             Pearl Harbour Attacked  1941   \n",
              "16                                 Fall of Stalingrad  1943   \n",
              "17                                     D-Day Landings  1944   \n",
              "18                                Liberation of Paris  1944   \n",
              "19      Churchill, Stalin and Roosevelt Meet at Yalta  1945   \n",
              "\n",
              "                                          Description  \\\n",
              "0   Crowds line up to bid a final farewell to Quee...   \n",
              "1   On December 17 1903, news came through that tw...   \n",
              "2   Suffragette Emily Davison’s Derby Day protest ...   \n",
              "3   On March 15, 1917 following the Feburary Revol...   \n",
              "4   In late 1921, the Irish Free State Treaty is s...   \n",
              "5   Suzanne Lenglen wins an unprecedented sixth si...   \n",
              "6   Start Of UK General Strike (1926). The General...   \n",
              "7   Charles Lindbergh achieves the world’s first n...   \n",
              "8   In an attempt to form a stable coalition gover...   \n",
              "9   Edward VIII abdicates in order to marry the Am...   \n",
              "10  The world’s largest airship, the Hindenburg, i...   \n",
              "11  Hitler achieves the ‘Anschluss’ of Germany and...   \n",
              "12  On 1 September 1939, German forces invaded Pol...   \n",
              "13  On 27th May 1940, the mass evacuation of Allie...   \n",
              "14  On September 7, 1940 Germany begins its campai...   \n",
              "15  December 7th 1941 – The Imperial Japanese Navy...   \n",
              "16  The greatest battle of WW2 ended on 31st Jan 1...   \n",
              "17  On June 6 1944, Allied troops begin their inva...   \n",
              "18  On August 25th, 1944 after 4years of occupatio...   \n",
              "19  On February 12th 1945, a communicate was issue...   \n",
              "\n",
              "                                                  Url  \\\n",
              "0   https://emlii.com/wp-content/uploads/2020/04/1...   \n",
              "1   https://emlii.com/wp-content/uploads/2020/04/1...   \n",
              "2   https://emlii.com/wp-content/uploads/2020/04/1...   \n",
              "3   https://emlii.com/wp-content/uploads/2020/04/1...   \n",
              "4   https://emlii.com/wp-content/uploads/2020/04/1...   \n",
              "5   https://emlii.com/wp-content/uploads/2020/04/1...   \n",
              "6   https://emlii.com/wp-content/uploads/2020/04/1...   \n",
              "7   https://emlii.com/wp-content/uploads/2020/04/1...   \n",
              "8   https://emlii.com/wp-content/uploads/2020/04/1...   \n",
              "9   https://emlii.com/wp-content/uploads/2020/04/1...   \n",
              "10  https://emlii.com/wp-content/uploads/2020/04/1...   \n",
              "11  https://emlii.com/wp-content/uploads/2020/04/1...   \n",
              "12  https://emlii.com/wp-content/uploads/2020/04/1...   \n",
              "13  https://emlii.com/wp-content/uploads/2020/04/1...   \n",
              "14  https://emlii.com/wp-content/uploads/2020/04/1...   \n",
              "15  https://emlii.com/wp-content/uploads/2020/04/1...   \n",
              "16  https://emlii.com/wp-content/uploads/2020/04/1...   \n",
              "17  https://emlii.com/wp-content/uploads/2020/04/1...   \n",
              "18  https://emlii.com/wp-content/uploads/2020/04/1...   \n",
              "19  https://emlii.com/wp-content/uploads/2020/04/1...   \n",
              "\n",
              "                                  Description (extra)  \\\n",
              "0   Queen Victoria’s funeral procession, Windsor, ...   \n",
              "1                                                 NaN   \n",
              "2                                                 NaN   \n",
              "3   The former tsar Nicholas II and his children s...   \n",
              "4                                                 NaN   \n",
              "5                                                 NaN   \n",
              "6                                                 NaN   \n",
              "7   On September 27th, 1930 the American golfer Bo...   \n",
              "8                                                 NaN   \n",
              "9                                                 NaN   \n",
              "10                                                NaN   \n",
              "11          Austria opens its gates to German troops.   \n",
              "12                                                NaN   \n",
              "13                                                NaN   \n",
              "14  London after the monstrous attacks that left s...   \n",
              "15                                                NaN   \n",
              "16                                                NaN   \n",
              "17                                                NaN   \n",
              "18                                                NaN   \n",
              "19                                                NaN   \n",
              "\n",
              "                                          Url (extra)  \n",
              "0   https://emlii.com/wp-content/uploads/2020/04/1...  \n",
              "1                                                 NaN  \n",
              "2                                                 NaN  \n",
              "3   https://emlii.com/wp-content/uploads/2020/04/1...  \n",
              "4                                                 NaN  \n",
              "5                                                 NaN  \n",
              "6                                                 NaN  \n",
              "7   https://emlii.com/wp-content/uploads/2020/04/1...  \n",
              "8                                                 NaN  \n",
              "9                                                 NaN  \n",
              "10                                                NaN  \n",
              "11  https://emlii.com/wp-content/uploads/2020/04/1...  \n",
              "12                                                NaN  \n",
              "13                                                NaN  \n",
              "14  https://emlii.com/wp-content/uploads/2020/04/1...  \n",
              "15                                                NaN  \n",
              "16                                                NaN  \n",
              "17                                                NaN  \n",
              "18                                                NaN  \n",
              "19                                                NaN  "
            ]
          },
          "metadata": {
            "tags": []
          },
          "execution_count": 107
        }
      ]
    },
    {
      "cell_type": "code",
      "metadata": {
        "id": "RQTcmRMa7ocH",
        "outputId": "8b4bd3ea-3533-400a-cc93-3c76d0d11e0d",
        "colab": {
          "base_uri": "https://localhost:8080/"
        }
      },
      "source": [
        "df_merged.isna().sum()"
      ],
      "execution_count": 108,
      "outputs": [
        {
          "output_type": "execute_result",
          "data": {
            "text/plain": [
              "Title                   0\n",
              "Year                    0\n",
              "Description             0\n",
              "Url                     0\n",
              "Description (extra)    64\n",
              "Url (extra)            64\n",
              "dtype: int64"
            ]
          },
          "metadata": {
            "tags": []
          },
          "execution_count": 108
        }
      ]
    },
    {
      "cell_type": "markdown",
      "metadata": {
        "id": "u_Dn7ep9Ceie"
      },
      "source": [
        "As above result shows that we have now extracted all information about events from the webpage."
      ]
    },
    {
      "cell_type": "markdown",
      "metadata": {
        "id": "pwLsGOnSCvlu"
      },
      "source": [
        "We can then save this merged dataframe into csv file for further analysis like:\n",
        "+ No. of events year-wise\n",
        "+ NLP model to categorize if event was happy or sad\n",
        "+ Extract dates from description and see pattern (if any)\n",
        "+ Use image url to generate captions for the images.\n",
        "\n",
        "Above is just some thoughts of how we can use this dataset."
      ]
    },
    {
      "cell_type": "code",
      "metadata": {
        "id": "tLOPxjcJ_lIx"
      },
      "source": [
        ""
      ],
      "execution_count": null,
      "outputs": []
    }
  ]
}