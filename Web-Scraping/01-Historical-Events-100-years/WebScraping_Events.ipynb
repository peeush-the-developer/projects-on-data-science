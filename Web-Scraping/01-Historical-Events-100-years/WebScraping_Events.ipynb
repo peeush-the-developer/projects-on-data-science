{
  "nbformat": 4,
  "nbformat_minor": 0,
  "metadata": {
    "colab": {
      "name": "WebScraping_Events.ipynb",
      "provenance": [],
      "collapsed_sections": [],
      "include_colab_link": true
    },
    "kernelspec": {
      "name": "python3",
      "display_name": "Python 3"
    },
    "language_info": {
      "name": "python"
    }
  },
  "cells": [
    {
      "cell_type": "markdown",
      "metadata": {
        "id": "view-in-github",
        "colab_type": "text"
      },
      "source": [
        "<a href=\"https://colab.research.google.com/github/peeush-the-developer/projects-on-data-science/blob/main/Web-Scraping/01-Historical-Events-100-years/WebScraping_Events.ipynb\" target=\"_parent\"><img src=\"https://colab.research.google.com/assets/colab-badge.svg\" alt=\"Open In Colab\"/></a>"
      ]
    },
    {
      "cell_type": "code",
      "metadata": {
        "id": "NKjEqEXcnCcK"
      },
      "source": [
        "import requests\n",
        "from bs4 import BeautifulSoup\n",
        "import pandas as pd\n",
        "\n",
        "pd.options.display.max_rows = 100\n",
        "pd.options.display.max_columns = 100"
      ],
      "execution_count": 1,
      "outputs": []
    },
    {
      "cell_type": "code",
      "metadata": {
        "id": "JSgDifhQnNVc"
      },
      "source": [
        "response = requests.get('https://emlii.com/78-events-across-100-years-that-completely-changed-the-world/')"
      ],
      "execution_count": 2,
      "outputs": []
    },
    {
      "cell_type": "code",
      "metadata": {
        "id": "81LdUMXhnR1m"
      },
      "source": [
        "soup_obj = BeautifulSoup(response.text, 'html.parser')"
      ],
      "execution_count": 3,
      "outputs": []
    },
    {
      "cell_type": "code",
      "metadata": {
        "id": "rBeORkNYnWjU"
      },
      "source": [
        "events = soup_obj.find_all(class_='article-inner-block')"
      ],
      "execution_count": 4,
      "outputs": []
    },
    {
      "cell_type": "code",
      "metadata": {
        "colab": {
          "base_uri": "https://localhost:8080/"
        },
        "id": "9-wRmdmpnlWj",
        "outputId": "26d2ad29-0c68-4203-af7a-800cff76aab6"
      },
      "source": [
        "len(events)"
      ],
      "execution_count": 5,
      "outputs": [
        {
          "output_type": "execute_result",
          "data": {
            "text/plain": [
              "88"
            ]
          },
          "metadata": {
            "tags": []
          },
          "execution_count": 5
        }
      ]
    },
    {
      "cell_type": "code",
      "metadata": {
        "colab": {
          "base_uri": "https://localhost:8080/"
        },
        "id": "tXPLpUAknmdn",
        "outputId": "0264848d-7e10-4fb3-c1a9-4f21c1ef5667"
      },
      "source": [
        "events[0]"
      ],
      "execution_count": 19,
      "outputs": [
        {
          "output_type": "execute_result",
          "data": {
            "text/plain": [
              "<div class=\"article-inner-block\">\n",
              "<h2 class=\"article-subtitle\">1. Queen Victoria’s Funeral (1901)</h2>\n",
              "<div class=\"article-inner-block-image\">\n",
              "<p><img alt=\"\" class=\"attachment-full size-full aligncenter\" height=\"389\" loading=\"lazy\" sizes=\"(max-width: 640px) 100vw, 640px\" src=\"https://emlii.com/wp-content/uploads/2020/04/1587470234-9470-5356a7d7bb38f.jpg\" srcset=\"https://emlii.com/wp-content/uploads/2020/04/1587470234-9470-5356a7d7bb38f.jpg 640w, https://emlii.com/wp-content/uploads/2020/04/1587470234-9470-5356a7d7bb38f-300x182.jpg 300w\" width=\"640\"/></p>\n",
              "<div class=\"horizontal-share-block\">royal-portraits.blogspot.com</div>\n",
              "</div>\n",
              "<p> </p>\n",
              "<p class=\"article-inner-description\">Crowds line up to bid a final farewell to Queen Victoria. After 63 years on the throne, Victoria died at the age of 81 at Osborne House on The Isle of Wight. Her military state funeral was held on Saturday 2 February 1901 in St. George’s Chapel, Windsor Castle. She was the longest-reigning British monarch in history.</p>\n",
              "</div>"
            ]
          },
          "metadata": {
            "tags": []
          },
          "execution_count": 19
        }
      ]
    },
    {
      "cell_type": "code",
      "metadata": {
        "colab": {
          "base_uri": "https://localhost:8080/"
        },
        "id": "JhhrFQzSnqfS",
        "outputId": "2eaab54d-3257-4cfb-fa94-8dc41da59c04"
      },
      "source": [
        "events[1]"
      ],
      "execution_count": 20,
      "outputs": [
        {
          "output_type": "execute_result",
          "data": {
            "text/plain": [
              "<div class=\"article-inner-block\">\n",
              "<div class=\"article-inner-block-image\">\n",
              "<p><img alt=\"\" class=\"attachment-full size-full aligncenter\" height=\"450\" loading=\"lazy\" sizes=\"(max-width: 600px) 100vw, 600px\" src=\"https://emlii.com/wp-content/uploads/2020/04/1587470231-2944-5356a7faa7b5d.jpg\" srcset=\"https://emlii.com/wp-content/uploads/2020/04/1587470231-2944-5356a7faa7b5d.jpg 600w, https://emlii.com/wp-content/uploads/2020/04/1587470231-2944-5356a7faa7b5d-300x225.jpg 300w\" width=\"600\"/></p>\n",
              "<div class=\"horizontal-share-block\"></div>\n",
              "</div>\n",
              "<div class=\"article-source\"></div>\n",
              "<p class=\"article-inner-description\">Queen Victoria’s funeral procession, Windsor, 1901</p>\n",
              "</div>"
            ]
          },
          "metadata": {
            "tags": []
          },
          "execution_count": 20
        }
      ]
    },
    {
      "cell_type": "code",
      "metadata": {
        "id": "iFzJIbZvi52x"
      },
      "source": [
        "# Define function to extract \"Title\", \"Year\" from event\n",
        "def get_title_year(event):\n",
        "  '''\n",
        "  Extract title and year from the event instance\n",
        "\n",
        "  Arguments:\n",
        "    event: An instance of BeautifulSoup object read from events\n",
        "  \n",
        "  Returns:\n",
        "    title, year: Title and year of the event when available, otherwise None for \n",
        "    both\n",
        "  '''\n",
        "  title, year = None, None\n",
        "  heading = event.find('h2', class_='article-subtitle')\n",
        "  if heading:\n",
        "      title = heading.text[3:-7]\n",
        "      year = heading.text[-5:-1]\n",
        "      if not year.isdigit():\n",
        "        year = None\n",
        "  return title, year"
      ],
      "execution_count": 25,
      "outputs": []
    },
    {
      "cell_type": "code",
      "metadata": {
        "id": "YQ72oSARmYNi"
      },
      "source": [
        "# Define function to extract \"Url\" of image source from event\n",
        "def get_image_url(event):\n",
        "  '''\n",
        "  Extract Url of image source from the event instance\n",
        "\n",
        "  Arguments:\n",
        "    event: An instance of BeautifulSoup object read from events\n",
        "  \n",
        "  Returns:\n",
        "    url: Url of image source if available, otherwise None\n",
        "  '''\n",
        "  url = None\n",
        "  image = event.find('img')\n",
        "  if image:\n",
        "      url = image['src']\n",
        "  return url"
      ],
      "execution_count": 36,
      "outputs": []
    },
    {
      "cell_type": "code",
      "metadata": {
        "id": "uq1Mb08irZA2"
      },
      "source": [
        "# Define function to extract \"Description\" from event\n",
        "def get_description(event):\n",
        "  '''\n",
        "  Extract description from the event instance\n",
        "\n",
        "  Arguments:\n",
        "    event: An instance of BeautifulSoup object read from events\n",
        "  \n",
        "  Returns:\n",
        "    desc: description of the event if available, otherwise None\n",
        "  '''\n",
        "  desc = None\n",
        "  desc_tag = event.find('p', class_='article-inner-description')\n",
        "  if desc_tag:\n",
        "      desc = desc_tag.text\n",
        "  return desc"
      ],
      "execution_count": 43,
      "outputs": []
    },
    {
      "cell_type": "code",
      "metadata": {
        "id": "3Wnq_26uqB1C",
        "outputId": "3382487e-1d51-496c-9703-840413c89ee7",
        "colab": {
          "base_uri": "https://localhost:8080/"
        }
      },
      "source": [
        "# Test our functions for first 10 events\n",
        "for event in events[:10]:\n",
        "  title, year = get_title_year(event)\n",
        "  url = get_image_url(event)\n",
        "  desc = get_description(event)\n",
        "  print(year, url, title)\n",
        "  print(desc)"
      ],
      "execution_count": 38,
      "outputs": [
        {
          "output_type": "stream",
          "text": [
            "1901 https://emlii.com/wp-content/uploads/2020/04/1587470234-9470-5356a7d7bb38f.jpg Queen Victoria’s Funeral\n",
            "Crowds line up to bid a final farewell to Queen Victoria. After 63 years on the throne, Victoria died at the age of 81 at Osborne House on The Isle of Wight. Her military state funeral was held on Saturday 2 February 1901 in St. George’s Chapel, Windsor Castle. She was the longest-reigning British monarch in history.\n",
            "None https://emlii.com/wp-content/uploads/2020/04/1587470231-2944-5356a7faa7b5d.jpg None\n",
            "Queen Victoria’s funeral procession, Windsor, 1901\n",
            "1903 https://emlii.com/wp-content/uploads/2020/04/1587470238-1367-5356a98eb8337.jpg Wright Brother’s First Flight\n",
            "On December 17 1903, news came through that two brothers had flown a curious air machine for more than a minute. This event marked a revolution in human transportation and was in fact one of human’s greatest achievements.\n",
            "1913 https://emlii.com/wp-content/uploads/2020/04/1587470235-3021-5356aa65cfc3b.jpg Emily Davison Throws Herself Under The Kings Horse\n",
            "Suffragette Emily Davison’s Derby Day protest ends in tragedy. She was a militant activist who fought for women’s suffrage in Britain. She was jailed on nine occasions and force-fed 49 times. She is best known for stepping in front of King George V’s horse Anmer at the Epsom Derby on 4 June 1913, sustaining injuries that resulted in her death four days later.\n",
            "None https://emlii.com/wp-content/uploads/2020/04/1587470234-1590-5356ab8edf490.jpg Abdication of the Tsar Nik\n",
            "On March 15, 1917 following the Feburary Revolution, the Russian Tsar Nicholas abdicated, heralding the end of the Russian imperial empire. His reign saw Imperial Russia go from being one of the foremost great powers of the world to economic and military collapse. Enemies nicknamed him Nicholas the Bloody. Later he and his family were brutally murdered by the Bolsheviks on the night of July 16/17 1918.\n",
            "None https://emlii.com/wp-content/uploads/2020/04/1587470241-4527-5356ac8c2c4d7.jpg None\n",
            "The former tsar Nicholas II and his children sitting on the roof of a greenhouse during their captivity in Tobolsk.\n",
            "1921 https://emlii.com/wp-content/uploads/2020/04/1587470241-7102-5356acd866e2f.jpg Irish Free State Treaty Signed\n",
            "In late 1921, the Irish Free State Treaty is signed, establishing Ireland as a Dominion within the British Empire. Strictly speaking the Irish Free State treaty was signed on the 6th December 1921, not the 7th.\n",
            "1925 https://emlii.com/wp-content/uploads/2020/04/1587470241-6384-5356ae137cb35.jpg Suzanne Lenglen Breaks Wimbledon Record\n",
            "Suzanne Lenglen wins an unprecedented sixth singles title at Wimbledon in the space of seven years.\n",
            "1926 https://emlii.com/wp-content/uploads/2020/04/1587470244-7642-5356aecfa80a1.jpg Start Of UK General Strike\n",
            "Start Of UK General Strike (1926). The General Strike begins as a response to the British government’s attempts to lower wages for miners.\n",
            "1927 https://emlii.com/wp-content/uploads/2020/04/1587470250-6517-5356af74a8f05.jpg Charles Lindbergh Flies the Atlantic Solo\n",
            "Charles Lindbergh achieves the world’s first non-stop transatlantic flight.\n"
          ],
          "name": "stdout"
        }
      ]
    },
    {
      "cell_type": "code",
      "metadata": {
        "id": "e6uAvDFLomdL"
      },
      "source": [
        "# Loop through all events and put them in a list\n",
        "events_list = []\n",
        "for event in events:\n",
        "    title, year = get_title_year(event)\n",
        "    url = get_image_url(event)\n",
        "    desc = get_description(event)\n",
        "    events_list.append((title, year, desc, url))"
      ],
      "execution_count": 39,
      "outputs": []
    },
    {
      "cell_type": "code",
      "metadata": {
        "colab": {
          "base_uri": "https://localhost:8080/",
          "height": 677
        },
        "id": "SZ2rT8sWq8FY",
        "outputId": "331e47d5-409e-49cb-b704-801038ffaaf7"
      },
      "source": [
        "df = pd.DataFrame(events_list, columns=[\n",
        "                  'Title', 'Year', 'Description', 'Img_url'])\n",
        "df.head(20)"
      ],
      "execution_count": 41,
      "outputs": [
        {
          "output_type": "execute_result",
          "data": {
            "text/html": [
              "<div>\n",
              "<style scoped>\n",
              "    .dataframe tbody tr th:only-of-type {\n",
              "        vertical-align: middle;\n",
              "    }\n",
              "\n",
              "    .dataframe tbody tr th {\n",
              "        vertical-align: top;\n",
              "    }\n",
              "\n",
              "    .dataframe thead th {\n",
              "        text-align: right;\n",
              "    }\n",
              "</style>\n",
              "<table border=\"1\" class=\"dataframe\">\n",
              "  <thead>\n",
              "    <tr style=\"text-align: right;\">\n",
              "      <th></th>\n",
              "      <th>Title</th>\n",
              "      <th>Year</th>\n",
              "      <th>Description</th>\n",
              "      <th>Img_url</th>\n",
              "    </tr>\n",
              "  </thead>\n",
              "  <tbody>\n",
              "    <tr>\n",
              "      <th>0</th>\n",
              "      <td>Queen Victoria’s Funeral</td>\n",
              "      <td>1901</td>\n",
              "      <td>Crowds line up to bid a final farewell to Quee...</td>\n",
              "      <td>https://emlii.com/wp-content/uploads/2020/04/1...</td>\n",
              "    </tr>\n",
              "    <tr>\n",
              "      <th>1</th>\n",
              "      <td>None</td>\n",
              "      <td>None</td>\n",
              "      <td>Queen Victoria’s funeral procession, Windsor, ...</td>\n",
              "      <td>https://emlii.com/wp-content/uploads/2020/04/1...</td>\n",
              "    </tr>\n",
              "    <tr>\n",
              "      <th>2</th>\n",
              "      <td>Wright Brother’s First Flight</td>\n",
              "      <td>1903</td>\n",
              "      <td>On December 17 1903, news came through that tw...</td>\n",
              "      <td>https://emlii.com/wp-content/uploads/2020/04/1...</td>\n",
              "    </tr>\n",
              "    <tr>\n",
              "      <th>3</th>\n",
              "      <td>Emily Davison Throws Herself Under The Kings H...</td>\n",
              "      <td>1913</td>\n",
              "      <td>Suffragette Emily Davison’s Derby Day protest ...</td>\n",
              "      <td>https://emlii.com/wp-content/uploads/2020/04/1...</td>\n",
              "    </tr>\n",
              "    <tr>\n",
              "      <th>4</th>\n",
              "      <td>Abdication of the Tsar Nik</td>\n",
              "      <td>None</td>\n",
              "      <td>On March 15, 1917 following the Feburary Revol...</td>\n",
              "      <td>https://emlii.com/wp-content/uploads/2020/04/1...</td>\n",
              "    </tr>\n",
              "    <tr>\n",
              "      <th>5</th>\n",
              "      <td>None</td>\n",
              "      <td>None</td>\n",
              "      <td>The former tsar Nicholas II and his children s...</td>\n",
              "      <td>https://emlii.com/wp-content/uploads/2020/04/1...</td>\n",
              "    </tr>\n",
              "    <tr>\n",
              "      <th>6</th>\n",
              "      <td>Irish Free State Treaty Signed</td>\n",
              "      <td>1921</td>\n",
              "      <td>In late 1921, the Irish Free State Treaty is s...</td>\n",
              "      <td>https://emlii.com/wp-content/uploads/2020/04/1...</td>\n",
              "    </tr>\n",
              "    <tr>\n",
              "      <th>7</th>\n",
              "      <td>Suzanne Lenglen Breaks Wimbledon Record</td>\n",
              "      <td>1925</td>\n",
              "      <td>Suzanne Lenglen wins an unprecedented sixth si...</td>\n",
              "      <td>https://emlii.com/wp-content/uploads/2020/04/1...</td>\n",
              "    </tr>\n",
              "    <tr>\n",
              "      <th>8</th>\n",
              "      <td>Start Of UK General Strike</td>\n",
              "      <td>1926</td>\n",
              "      <td>Start Of UK General Strike (1926). The General...</td>\n",
              "      <td>https://emlii.com/wp-content/uploads/2020/04/1...</td>\n",
              "    </tr>\n",
              "    <tr>\n",
              "      <th>9</th>\n",
              "      <td>Charles Lindbergh Flies the Atlantic Solo</td>\n",
              "      <td>1927</td>\n",
              "      <td>Charles Lindbergh achieves the world’s first n...</td>\n",
              "      <td>https://emlii.com/wp-content/uploads/2020/04/1...</td>\n",
              "    </tr>\n",
              "    <tr>\n",
              "      <th>10</th>\n",
              "      <td>None</td>\n",
              "      <td>None</td>\n",
              "      <td>On September 27th, 1930 the American golfer Bo...</td>\n",
              "      <td>https://emlii.com/wp-content/uploads/2020/04/1...</td>\n",
              "    </tr>\n",
              "    <tr>\n",
              "      <th>11</th>\n",
              "      <td>Hitler Becomes German Chancellor</td>\n",
              "      <td>1933</td>\n",
              "      <td>In an attempt to form a stable coalition gover...</td>\n",
              "      <td>https://emlii.com/wp-content/uploads/2020/04/1...</td>\n",
              "    </tr>\n",
              "    <tr>\n",
              "      <th>12</th>\n",
              "      <td>King Edward VIII Abdicates</td>\n",
              "      <td>1936</td>\n",
              "      <td>Edward VIII abdicates in order to marry the Am...</td>\n",
              "      <td>https://emlii.com/wp-content/uploads/2020/04/1...</td>\n",
              "    </tr>\n",
              "    <tr>\n",
              "      <th>13</th>\n",
              "      <td>Hindenburg Airship Crash</td>\n",
              "      <td>1937</td>\n",
              "      <td>The world’s largest airship, the Hindenburg, i...</td>\n",
              "      <td>https://emlii.com/wp-content/uploads/2020/04/1...</td>\n",
              "    </tr>\n",
              "    <tr>\n",
              "      <th>14</th>\n",
              "      <td>Hitler Annexes Austria</td>\n",
              "      <td>1938</td>\n",
              "      <td>Hitler achieves the ‘Anschluss’ of Germany and...</td>\n",
              "      <td>https://emlii.com/wp-content/uploads/2020/04/1...</td>\n",
              "    </tr>\n",
              "    <tr>\n",
              "      <th>15</th>\n",
              "      <td>None</td>\n",
              "      <td>None</td>\n",
              "      <td>Austria opens its gates to German troops.</td>\n",
              "      <td>https://emlii.com/wp-content/uploads/2020/04/1...</td>\n",
              "    </tr>\n",
              "    <tr>\n",
              "      <th>16</th>\n",
              "      <td>Germany Invades Poland</td>\n",
              "      <td>1939</td>\n",
              "      <td>On 1 September 1939, German forces invaded Pol...</td>\n",
              "      <td>https://emlii.com/wp-content/uploads/2020/04/1...</td>\n",
              "    </tr>\n",
              "    <tr>\n",
              "      <th>17</th>\n",
              "      <td>Evacuation of Dunkirk</td>\n",
              "      <td>1940</td>\n",
              "      <td>On 27th May 1940, the mass evacuation of Allie...</td>\n",
              "      <td>https://emlii.com/wp-content/uploads/2020/04/1...</td>\n",
              "    </tr>\n",
              "    <tr>\n",
              "      <th>18</th>\n",
              "      <td>London Blitz Begins</td>\n",
              "      <td>1940</td>\n",
              "      <td>On September 7, 1940 Germany begins its campai...</td>\n",
              "      <td>https://emlii.com/wp-content/uploads/2020/04/1...</td>\n",
              "    </tr>\n",
              "    <tr>\n",
              "      <th>19</th>\n",
              "      <td>None</td>\n",
              "      <td>None</td>\n",
              "      <td>London after the monstrous attacks that left s...</td>\n",
              "      <td>https://emlii.com/wp-content/uploads/2020/04/1...</td>\n",
              "    </tr>\n",
              "  </tbody>\n",
              "</table>\n",
              "</div>"
            ],
            "text/plain": [
              "                                                Title  Year  \\\n",
              "0                            Queen Victoria’s Funeral  1901   \n",
              "1                                                None  None   \n",
              "2                       Wright Brother’s First Flight  1903   \n",
              "3   Emily Davison Throws Herself Under The Kings H...  1913   \n",
              "4                          Abdication of the Tsar Nik  None   \n",
              "5                                                None  None   \n",
              "6                      Irish Free State Treaty Signed  1921   \n",
              "7             Suzanne Lenglen Breaks Wimbledon Record  1925   \n",
              "8                          Start Of UK General Strike  1926   \n",
              "9           Charles Lindbergh Flies the Atlantic Solo  1927   \n",
              "10                                               None  None   \n",
              "11                   Hitler Becomes German Chancellor  1933   \n",
              "12                         King Edward VIII Abdicates  1936   \n",
              "13                           Hindenburg Airship Crash  1937   \n",
              "14                             Hitler Annexes Austria  1938   \n",
              "15                                               None  None   \n",
              "16                             Germany Invades Poland  1939   \n",
              "17                              Evacuation of Dunkirk  1940   \n",
              "18                                London Blitz Begins  1940   \n",
              "19                                               None  None   \n",
              "\n",
              "                                          Description  \\\n",
              "0   Crowds line up to bid a final farewell to Quee...   \n",
              "1   Queen Victoria’s funeral procession, Windsor, ...   \n",
              "2   On December 17 1903, news came through that tw...   \n",
              "3   Suffragette Emily Davison’s Derby Day protest ...   \n",
              "4   On March 15, 1917 following the Feburary Revol...   \n",
              "5   The former tsar Nicholas II and his children s...   \n",
              "6   In late 1921, the Irish Free State Treaty is s...   \n",
              "7   Suzanne Lenglen wins an unprecedented sixth si...   \n",
              "8   Start Of UK General Strike (1926). The General...   \n",
              "9   Charles Lindbergh achieves the world’s first n...   \n",
              "10  On September 27th, 1930 the American golfer Bo...   \n",
              "11  In an attempt to form a stable coalition gover...   \n",
              "12  Edward VIII abdicates in order to marry the Am...   \n",
              "13  The world’s largest airship, the Hindenburg, i...   \n",
              "14  Hitler achieves the ‘Anschluss’ of Germany and...   \n",
              "15          Austria opens its gates to German troops.   \n",
              "16  On 1 September 1939, German forces invaded Pol...   \n",
              "17  On 27th May 1940, the mass evacuation of Allie...   \n",
              "18  On September 7, 1940 Germany begins its campai...   \n",
              "19  London after the monstrous attacks that left s...   \n",
              "\n",
              "                                              Img_url  \n",
              "0   https://emlii.com/wp-content/uploads/2020/04/1...  \n",
              "1   https://emlii.com/wp-content/uploads/2020/04/1...  \n",
              "2   https://emlii.com/wp-content/uploads/2020/04/1...  \n",
              "3   https://emlii.com/wp-content/uploads/2020/04/1...  \n",
              "4   https://emlii.com/wp-content/uploads/2020/04/1...  \n",
              "5   https://emlii.com/wp-content/uploads/2020/04/1...  \n",
              "6   https://emlii.com/wp-content/uploads/2020/04/1...  \n",
              "7   https://emlii.com/wp-content/uploads/2020/04/1...  \n",
              "8   https://emlii.com/wp-content/uploads/2020/04/1...  \n",
              "9   https://emlii.com/wp-content/uploads/2020/04/1...  \n",
              "10  https://emlii.com/wp-content/uploads/2020/04/1...  \n",
              "11  https://emlii.com/wp-content/uploads/2020/04/1...  \n",
              "12  https://emlii.com/wp-content/uploads/2020/04/1...  \n",
              "13  https://emlii.com/wp-content/uploads/2020/04/1...  \n",
              "14  https://emlii.com/wp-content/uploads/2020/04/1...  \n",
              "15  https://emlii.com/wp-content/uploads/2020/04/1...  \n",
              "16  https://emlii.com/wp-content/uploads/2020/04/1...  \n",
              "17  https://emlii.com/wp-content/uploads/2020/04/1...  \n",
              "18  https://emlii.com/wp-content/uploads/2020/04/1...  \n",
              "19  https://emlii.com/wp-content/uploads/2020/04/1...  "
            ]
          },
          "metadata": {
            "tags": []
          },
          "execution_count": 41
        }
      ]
    },
    {
      "cell_type": "code",
      "metadata": {
        "id": "Akl1j8dQunjg",
        "outputId": "b66ef84a-0640-472d-ddfa-456daf00ce76",
        "colab": {
          "base_uri": "https://localhost:8080/"
        }
      },
      "source": [
        "df.isna().sum()"
      ],
      "execution_count": 42,
      "outputs": [
        {
          "output_type": "execute_result",
          "data": {
            "text/plain": [
              "Title          12\n",
              "Year           14\n",
              "Description     1\n",
              "Img_url         0\n",
              "dtype: int64"
            ]
          },
          "metadata": {
            "tags": []
          },
          "execution_count": 42
        }
      ]
    },
    {
      "cell_type": "markdown",
      "metadata": {
        "id": "aKG6lTuztDal"
      },
      "source": [
        "From above results, we can see that there are some missing values in Title, Year and we need to revisit the web page to see if the structure is being followed across all events."
      ]
    },
    {
      "cell_type": "code",
      "metadata": {
        "id": "Ta4G1-GifEBo"
      },
      "source": [
        ""
      ],
      "execution_count": null,
      "outputs": []
    }
  ]
}